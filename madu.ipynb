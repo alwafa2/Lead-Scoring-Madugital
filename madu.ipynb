{
 "cells": [
  {
   "cell_type": "markdown",
   "metadata": {},
   "source": [
    "# 1 Data Understanding"
   ]
  },
  {
   "cell_type": "markdown",
   "metadata": {},
   "source": [
    "## IMPORT PACKAGES"
   ]
  },
  {
   "cell_type": "code",
   "execution_count": 1,
   "metadata": {},
   "outputs": [],
   "source": [
    "import pandas as pd\n",
    "import numpy as np\n",
    "import matplotlib.pyplot as plt\n",
    "import os\n",
    "import pickle\n",
    "\n",
    "# Data Modelling\n",
    "from sklearn.model_selection import train_test_split, RandomizedSearchCV\n",
    "from sklearn.linear_model import LogisticRegression\n",
    "from sklearn.tree import DecisionTreeClassifier\n",
    "from sklearn.ensemble import RandomForestClassifier\n",
    "from sklearn.metrics import classification_report, f1_score\n",
    "\n",
    "# import sklearn libraries\n",
    "from sklearn.preprocessing import StandardScaler, MinMaxScaler\n",
    "from sklearn.model_selection import train_test_split\n",
    "from sklearn.linear_model import LinearRegression\n",
    "#from sklearn.tree import DecisionTreeClassifier\n",
    "from sklearn.cluster import KMeans"
   ]
  },
  {
   "cell_type": "markdown",
   "metadata": {},
   "source": [
    "## DATA OVERVIEW"
   ]
  },
  {
   "cell_type": "code",
   "execution_count": 2,
   "metadata": {},
   "outputs": [
    {
     "name": "stdout",
     "output_type": "stream",
     "text": [
      "Madu\\lead_scoring.csv\n"
     ]
    }
   ],
   "source": [
    "data_path = os.path.join(\"Madu\", \"lead_scoring.csv\")\n",
    "print(data_path)\n"
   ]
  },
  {
   "cell_type": "code",
   "execution_count": 3,
   "metadata": {},
   "outputs": [
    {
     "data": {
      "text/plain": [
       "(9240, 37)"
      ]
     },
     "execution_count": 3,
     "metadata": {},
     "output_type": "execute_result"
    }
   ],
   "source": [
    "data = pd.read_csv(data_path)\n",
    "data.shape"
   ]
  },
  {
   "cell_type": "code",
   "execution_count": 4,
   "metadata": {},
   "outputs": [
    {
     "name": "stdout",
     "output_type": "stream",
     "text": [
      "<class 'pandas.core.frame.DataFrame'>\n",
      "RangeIndex: 9240 entries, 0 to 9239\n",
      "Data columns (total 37 columns):\n",
      " #   Column                                          Non-Null Count  Dtype  \n",
      "---  ------                                          --------------  -----  \n",
      " 0   Prospect ID                                     9240 non-null   object \n",
      " 1   Lead Number                                     9240 non-null   int64  \n",
      " 2   Lead Origin                                     9240 non-null   object \n",
      " 3   Lead Source                                     9204 non-null   object \n",
      " 4   Do Not Email                                    9240 non-null   object \n",
      " 5   Do Not Call                                     9240 non-null   object \n",
      " 6   Converted                                       9240 non-null   int64  \n",
      " 7   TotalVisits                                     9103 non-null   float64\n",
      " 8   Total Time Spent on Website                     9240 non-null   int64  \n",
      " 9   Page Views Per Visit                            9103 non-null   float64\n",
      " 10  Last Activity                                   9137 non-null   object \n",
      " 11  Country                                         6779 non-null   object \n",
      " 12  Specialization                                  7802 non-null   object \n",
      " 13  How did you hear about Madugital                7033 non-null   object \n",
      " 14  What is your current occupation                 6550 non-null   object \n",
      " 15  What matters most to you in choosing a product  6531 non-null   object \n",
      " 16  Search                                          9240 non-null   object \n",
      " 17  Magazine                                        9240 non-null   object \n",
      " 18  Newspaper Article                               9240 non-null   object \n",
      " 19  Madugital Telegram                              9240 non-null   object \n",
      " 20  Newspaper                                       9240 non-null   object \n",
      " 21  Digital Advertisement                           9240 non-null   object \n",
      " 22  Through Recommendations                         9240 non-null   object \n",
      " 23  Receive More Updates About Our Products         9240 non-null   object \n",
      " 24  Tags                                            5887 non-null   object \n",
      " 25  Lead Quality                                    4473 non-null   object \n",
      " 26  Update me on Supply Chain Content               9240 non-null   object \n",
      " 27  Get updates on DM Content                       9240 non-null   object \n",
      " 28  Lead Profile                                    6531 non-null   object \n",
      " 29  City                                            7820 non-null   object \n",
      " 30  Asymmetrique Activity Index                     5022 non-null   object \n",
      " 31  Asymmetrique Profile Index                      5022 non-null   object \n",
      " 32  Asymmetrique Activity Score                     5022 non-null   float64\n",
      " 33  Asymmetrique Profile Score                      5022 non-null   float64\n",
      " 34  I agree to pay the amount through cheque        9240 non-null   object \n",
      " 35  A free copy of Mastering The Interview          9240 non-null   object \n",
      " 36  Last Notable Activity                           9240 non-null   object \n",
      "dtypes: float64(4), int64(3), object(30)\n",
      "memory usage: 2.6+ MB\n"
     ]
    }
   ],
   "source": [
    "data.info()"
   ]
  },
  {
   "cell_type": "markdown",
   "metadata": {},
   "source": [
    "### Keterangan data\n",
    "\n",
    "1.\tProspect ID :\tA unique ID with which the customer is identified.\n",
    "2.\tLead Number :\tA lead number assigned to each lead procured.\n",
    "3.\tLead Origin :\tThe origin identifier with which the customer was identified to be a lead. Includes API, Landing Page Submission, etc.\n",
    "4.\tLead Source :\tThe source of the lead. Includes Google, Organic Search, Olark Chat, etc.\n",
    "5.\tDo Not Email:\tAn indicator variable selected by the customer wherein they select whether of not they want to be emailed about the course or not.\n",
    "6.\tDo Not Call :\tAn indicator variable selected by the customer wherein they select whether of not they want to be called about the course or not.\n",
    "7.\tConverted   :\tThe target variable. Indicates whether a lead has been successfully converted or not.\n",
    "8.\tTotalVisits :\tThe total number of visits made by the customer on the website.\n",
    "9.\tTotal Time Spent on Website\tThe total time spent by the customer on the website.\n",
    "10.\tPage Views Per Visit\tAverage number of pages on the website viewed during the visits.\n",
    "11.\tLast Activity\tLast activity performed by the customer. Includes Email Opened, Olark Chat Conversation, etc.\n",
    "12.\tCountry\tThe country of the customer.\n",
    "13.\tSpecialization\tThe industry domain in which the customer worked before. Includes the level 'Select Specialization' which means the customer had not selected this option while filling the form.\n",
    "14.\tHow did you hear about Madugital\tThe source from which the customer heard about Madugital.\n",
    "15.\tWhat is your current occupation\tIndicates whether the customer is a student, unemployed or employed.\n",
    "16.\tWhat matters most to you in choosing this product\tAn option selected by the customer indicating what is their main motto behind buying this product.\n",
    "17.\tSearch\tIndicating whether the customer had seen the ad in any of the listed items.\n",
    "18.\tMagazine\t\n",
    "19.\tNewspaper Article\t\n",
    "20.\tMadugital Forum\t\n",
    "21.\tNewspaper\t\n",
    "22.\tDigital Advertisement\t\n",
    "23.\tThrough Recommendations\tIndicates whether the customer came in through recommendations.\n",
    "24.\tReceive More Updates About Our Courses\tIndicates whether the customer chose to receive more updates about the courses.\n",
    "25.\tTags\tTags assigned to customers indicating the current status of the lead.\n",
    "26.\tLead Quality\tIndicates the quality of lead based on the data and intuition the the employee who has been assigned to the lead.\n",
    "27.\tUpdate me on Supply Chain Content\tIndicates whether the customer wants updates on the Supply Chain Content.\n",
    "28.\tGet updates on DM Content\tIndicates whether the customer wants updates on the DM Content.\n",
    "29.\tLead Profile\tA lead level assigned to each customer based on their profile.\n",
    "30.\tCity\tThe city of the customer.\n",
    "31.\tAsymmetrique Activity Index\tAn index and score assigned to each customer based on their activity and their profile\n",
    "32.\tAsymmetrique Profile Index\t\n",
    "33.\tAsymmetrique Activity Score\t\n",
    "34.\tAsymmetrique Profile Score\t\n",
    "35.\tI agree to pay the amount through cheque\tIndicates whether the customer has agreed to pay the amount through cheque or not.\n",
    "36.\ta free copy of Mastering The Healthy Live\tIndicates whether the customer wants a free copy of 'Mastering the Healthy Live' or not.\n",
    "37.\tLast Notable Activity\tThe last notable acitivity performed by the customer.\n"
   ]
  },
  {
   "cell_type": "code",
   "execution_count": 5,
   "metadata": {},
   "outputs": [
    {
     "data": {
      "text/html": [
       "<div>\n",
       "<style scoped>\n",
       "    .dataframe tbody tr th:only-of-type {\n",
       "        vertical-align: middle;\n",
       "    }\n",
       "\n",
       "    .dataframe tbody tr th {\n",
       "        vertical-align: top;\n",
       "    }\n",
       "\n",
       "    .dataframe thead th {\n",
       "        text-align: right;\n",
       "    }\n",
       "</style>\n",
       "<table border=\"1\" class=\"dataframe\">\n",
       "  <thead>\n",
       "    <tr style=\"text-align: right;\">\n",
       "      <th></th>\n",
       "      <th>Prospect ID</th>\n",
       "      <th>Lead Number</th>\n",
       "      <th>Lead Origin</th>\n",
       "      <th>Lead Source</th>\n",
       "      <th>Do Not Email</th>\n",
       "      <th>Do Not Call</th>\n",
       "      <th>Converted</th>\n",
       "      <th>TotalVisits</th>\n",
       "      <th>Total Time Spent on Website</th>\n",
       "      <th>Page Views Per Visit</th>\n",
       "      <th>Last Activity</th>\n",
       "      <th>Country</th>\n",
       "      <th>Specialization</th>\n",
       "      <th>How did you hear about Madugital</th>\n",
       "      <th>What is your current occupation</th>\n",
       "      <th>What matters most to you in choosing a product</th>\n",
       "      <th>Search</th>\n",
       "      <th>Magazine</th>\n",
       "      <th>Newspaper Article</th>\n",
       "      <th>Madugital Telegram</th>\n",
       "      <th>Newspaper</th>\n",
       "      <th>Digital Advertisement</th>\n",
       "      <th>Through Recommendations</th>\n",
       "      <th>Receive More Updates About Our Products</th>\n",
       "      <th>Tags</th>\n",
       "      <th>Lead Quality</th>\n",
       "      <th>Update me on Supply Chain Content</th>\n",
       "      <th>Get updates on DM Content</th>\n",
       "      <th>Lead Profile</th>\n",
       "      <th>City</th>\n",
       "      <th>Asymmetrique Activity Index</th>\n",
       "      <th>Asymmetrique Profile Index</th>\n",
       "      <th>Asymmetrique Activity Score</th>\n",
       "      <th>Asymmetrique Profile Score</th>\n",
       "      <th>I agree to pay the amount through cheque</th>\n",
       "      <th>A free copy of Mastering The Interview</th>\n",
       "      <th>Last Notable Activity</th>\n",
       "    </tr>\n",
       "  </thead>\n",
       "  <tbody>\n",
       "    <tr>\n",
       "      <th>0</th>\n",
       "      <td>7927b2df-8bba-4d29-b9a2-b6e0beafe620</td>\n",
       "      <td>660737</td>\n",
       "      <td>API</td>\n",
       "      <td>Olark Chat</td>\n",
       "      <td>No</td>\n",
       "      <td>No</td>\n",
       "      <td>0</td>\n",
       "      <td>0.0</td>\n",
       "      <td>0</td>\n",
       "      <td>0.0</td>\n",
       "      <td>Page Visited on Website</td>\n",
       "      <td>NaN</td>\n",
       "      <td>Select</td>\n",
       "      <td>Select</td>\n",
       "      <td>Unemployed</td>\n",
       "      <td>Healthy for life</td>\n",
       "      <td>No</td>\n",
       "      <td>No</td>\n",
       "      <td>No</td>\n",
       "      <td>No</td>\n",
       "      <td>No</td>\n",
       "      <td>No</td>\n",
       "      <td>No</td>\n",
       "      <td>No</td>\n",
       "      <td>Interested in other courses</td>\n",
       "      <td>Low in Relevance</td>\n",
       "      <td>No</td>\n",
       "      <td>No</td>\n",
       "      <td>Select</td>\n",
       "      <td>Select</td>\n",
       "      <td>02.Medium</td>\n",
       "      <td>02.Medium</td>\n",
       "      <td>15.0</td>\n",
       "      <td>15.0</td>\n",
       "      <td>No</td>\n",
       "      <td>No</td>\n",
       "      <td>Modified</td>\n",
       "    </tr>\n",
       "    <tr>\n",
       "      <th>1</th>\n",
       "      <td>2a272436-5132-4136-86fa-dcc88c88f482</td>\n",
       "      <td>660728</td>\n",
       "      <td>API</td>\n",
       "      <td>Organic Search</td>\n",
       "      <td>No</td>\n",
       "      <td>No</td>\n",
       "      <td>0</td>\n",
       "      <td>5.0</td>\n",
       "      <td>674</td>\n",
       "      <td>2.5</td>\n",
       "      <td>Email Opened</td>\n",
       "      <td>Indonesia</td>\n",
       "      <td>Select</td>\n",
       "      <td>Select</td>\n",
       "      <td>Unemployed</td>\n",
       "      <td>Healthy for life</td>\n",
       "      <td>No</td>\n",
       "      <td>No</td>\n",
       "      <td>No</td>\n",
       "      <td>No</td>\n",
       "      <td>No</td>\n",
       "      <td>No</td>\n",
       "      <td>No</td>\n",
       "      <td>No</td>\n",
       "      <td>Ringing</td>\n",
       "      <td>NaN</td>\n",
       "      <td>No</td>\n",
       "      <td>No</td>\n",
       "      <td>Select</td>\n",
       "      <td>Select</td>\n",
       "      <td>02.Medium</td>\n",
       "      <td>02.Medium</td>\n",
       "      <td>15.0</td>\n",
       "      <td>15.0</td>\n",
       "      <td>No</td>\n",
       "      <td>No</td>\n",
       "      <td>Email Opened</td>\n",
       "    </tr>\n",
       "    <tr>\n",
       "      <th>2</th>\n",
       "      <td>8cc8c611-a219-4f35-ad23-fdfd2656bd8a</td>\n",
       "      <td>660727</td>\n",
       "      <td>Landing Page Submission</td>\n",
       "      <td>Direct Traffic</td>\n",
       "      <td>No</td>\n",
       "      <td>No</td>\n",
       "      <td>1</td>\n",
       "      <td>2.0</td>\n",
       "      <td>1532</td>\n",
       "      <td>2.0</td>\n",
       "      <td>Email Opened</td>\n",
       "      <td>Indonesia</td>\n",
       "      <td>Business Administration</td>\n",
       "      <td>Select</td>\n",
       "      <td>Student</td>\n",
       "      <td>Healthy for life</td>\n",
       "      <td>No</td>\n",
       "      <td>No</td>\n",
       "      <td>No</td>\n",
       "      <td>No</td>\n",
       "      <td>No</td>\n",
       "      <td>No</td>\n",
       "      <td>No</td>\n",
       "      <td>No</td>\n",
       "      <td>Will revert after reading the email</td>\n",
       "      <td>Might be</td>\n",
       "      <td>No</td>\n",
       "      <td>No</td>\n",
       "      <td>Potential Lead</td>\n",
       "      <td>Jakarta</td>\n",
       "      <td>02.Medium</td>\n",
       "      <td>01.High</td>\n",
       "      <td>14.0</td>\n",
       "      <td>20.0</td>\n",
       "      <td>No</td>\n",
       "      <td>Yes</td>\n",
       "      <td>Email Opened</td>\n",
       "    </tr>\n",
       "    <tr>\n",
       "      <th>3</th>\n",
       "      <td>0cc2df48-7cf4-4e39-9de9-19797f9b38cc</td>\n",
       "      <td>660719</td>\n",
       "      <td>Landing Page Submission</td>\n",
       "      <td>Direct Traffic</td>\n",
       "      <td>No</td>\n",
       "      <td>No</td>\n",
       "      <td>0</td>\n",
       "      <td>1.0</td>\n",
       "      <td>305</td>\n",
       "      <td>1.0</td>\n",
       "      <td>Unreachable</td>\n",
       "      <td>Indonesia</td>\n",
       "      <td>Media and Advertising</td>\n",
       "      <td>Word Of Mouth</td>\n",
       "      <td>Unemployed</td>\n",
       "      <td>Healthy for life</td>\n",
       "      <td>No</td>\n",
       "      <td>No</td>\n",
       "      <td>No</td>\n",
       "      <td>No</td>\n",
       "      <td>No</td>\n",
       "      <td>No</td>\n",
       "      <td>No</td>\n",
       "      <td>No</td>\n",
       "      <td>Ringing</td>\n",
       "      <td>Not Sure</td>\n",
       "      <td>No</td>\n",
       "      <td>No</td>\n",
       "      <td>Select</td>\n",
       "      <td>Jakarta</td>\n",
       "      <td>02.Medium</td>\n",
       "      <td>01.High</td>\n",
       "      <td>13.0</td>\n",
       "      <td>17.0</td>\n",
       "      <td>No</td>\n",
       "      <td>No</td>\n",
       "      <td>Modified</td>\n",
       "    </tr>\n",
       "    <tr>\n",
       "      <th>4</th>\n",
       "      <td>3256f628-e534-4826-9d63-4a8b88782852</td>\n",
       "      <td>660681</td>\n",
       "      <td>Landing Page Submission</td>\n",
       "      <td>Google</td>\n",
       "      <td>No</td>\n",
       "      <td>No</td>\n",
       "      <td>1</td>\n",
       "      <td>2.0</td>\n",
       "      <td>1428</td>\n",
       "      <td>1.0</td>\n",
       "      <td>Converted to Lead</td>\n",
       "      <td>Indonesia</td>\n",
       "      <td>Select</td>\n",
       "      <td>Other</td>\n",
       "      <td>Unemployed</td>\n",
       "      <td>Healthy for life</td>\n",
       "      <td>No</td>\n",
       "      <td>No</td>\n",
       "      <td>No</td>\n",
       "      <td>No</td>\n",
       "      <td>No</td>\n",
       "      <td>No</td>\n",
       "      <td>No</td>\n",
       "      <td>No</td>\n",
       "      <td>Will revert after reading the email</td>\n",
       "      <td>Might be</td>\n",
       "      <td>No</td>\n",
       "      <td>No</td>\n",
       "      <td>Select</td>\n",
       "      <td>Jakarta</td>\n",
       "      <td>02.Medium</td>\n",
       "      <td>01.High</td>\n",
       "      <td>15.0</td>\n",
       "      <td>18.0</td>\n",
       "      <td>No</td>\n",
       "      <td>No</td>\n",
       "      <td>Modified</td>\n",
       "    </tr>\n",
       "  </tbody>\n",
       "</table>\n",
       "</div>"
      ],
      "text/plain": [
       "                            Prospect ID  Lead Number              Lead Origin  \\\n",
       "0  7927b2df-8bba-4d29-b9a2-b6e0beafe620       660737                      API   \n",
       "1  2a272436-5132-4136-86fa-dcc88c88f482       660728                      API   \n",
       "2  8cc8c611-a219-4f35-ad23-fdfd2656bd8a       660727  Landing Page Submission   \n",
       "3  0cc2df48-7cf4-4e39-9de9-19797f9b38cc       660719  Landing Page Submission   \n",
       "4  3256f628-e534-4826-9d63-4a8b88782852       660681  Landing Page Submission   \n",
       "\n",
       "      Lead Source Do Not Email Do Not Call  Converted  TotalVisits  \\\n",
       "0      Olark Chat           No          No          0          0.0   \n",
       "1  Organic Search           No          No          0          5.0   \n",
       "2  Direct Traffic           No          No          1          2.0   \n",
       "3  Direct Traffic           No          No          0          1.0   \n",
       "4          Google           No          No          1          2.0   \n",
       "\n",
       "   Total Time Spent on Website  Page Views Per Visit            Last Activity  \\\n",
       "0                            0                   0.0  Page Visited on Website   \n",
       "1                          674                   2.5             Email Opened   \n",
       "2                         1532                   2.0             Email Opened   \n",
       "3                          305                   1.0              Unreachable   \n",
       "4                         1428                   1.0        Converted to Lead   \n",
       "\n",
       "     Country           Specialization How did you hear about Madugital  \\\n",
       "0        NaN                   Select                           Select   \n",
       "1  Indonesia                   Select                           Select   \n",
       "2  Indonesia  Business Administration                           Select   \n",
       "3  Indonesia    Media and Advertising                    Word Of Mouth   \n",
       "4  Indonesia                   Select                            Other   \n",
       "\n",
       "  What is your current occupation  \\\n",
       "0                      Unemployed   \n",
       "1                      Unemployed   \n",
       "2                         Student   \n",
       "3                      Unemployed   \n",
       "4                      Unemployed   \n",
       "\n",
       "  What matters most to you in choosing a product Search Magazine  \\\n",
       "0                               Healthy for life     No       No   \n",
       "1                               Healthy for life     No       No   \n",
       "2                               Healthy for life     No       No   \n",
       "3                               Healthy for life     No       No   \n",
       "4                               Healthy for life     No       No   \n",
       "\n",
       "  Newspaper Article Madugital Telegram Newspaper Digital Advertisement  \\\n",
       "0                No                 No        No                    No   \n",
       "1                No                 No        No                    No   \n",
       "2                No                 No        No                    No   \n",
       "3                No                 No        No                    No   \n",
       "4                No                 No        No                    No   \n",
       "\n",
       "  Through Recommendations Receive More Updates About Our Products  \\\n",
       "0                      No                                      No   \n",
       "1                      No                                      No   \n",
       "2                      No                                      No   \n",
       "3                      No                                      No   \n",
       "4                      No                                      No   \n",
       "\n",
       "                                  Tags      Lead Quality  \\\n",
       "0          Interested in other courses  Low in Relevance   \n",
       "1                              Ringing               NaN   \n",
       "2  Will revert after reading the email          Might be   \n",
       "3                              Ringing          Not Sure   \n",
       "4  Will revert after reading the email          Might be   \n",
       "\n",
       "  Update me on Supply Chain Content Get updates on DM Content    Lead Profile  \\\n",
       "0                                No                        No          Select   \n",
       "1                                No                        No          Select   \n",
       "2                                No                        No  Potential Lead   \n",
       "3                                No                        No          Select   \n",
       "4                                No                        No          Select   \n",
       "\n",
       "      City Asymmetrique Activity Index Asymmetrique Profile Index  \\\n",
       "0   Select                   02.Medium                  02.Medium   \n",
       "1   Select                   02.Medium                  02.Medium   \n",
       "2  Jakarta                   02.Medium                    01.High   \n",
       "3  Jakarta                   02.Medium                    01.High   \n",
       "4  Jakarta                   02.Medium                    01.High   \n",
       "\n",
       "   Asymmetrique Activity Score  Asymmetrique Profile Score  \\\n",
       "0                         15.0                        15.0   \n",
       "1                         15.0                        15.0   \n",
       "2                         14.0                        20.0   \n",
       "3                         13.0                        17.0   \n",
       "4                         15.0                        18.0   \n",
       "\n",
       "  I agree to pay the amount through cheque  \\\n",
       "0                                       No   \n",
       "1                                       No   \n",
       "2                                       No   \n",
       "3                                       No   \n",
       "4                                       No   \n",
       "\n",
       "  A free copy of Mastering The Interview Last Notable Activity  \n",
       "0                                     No              Modified  \n",
       "1                                     No          Email Opened  \n",
       "2                                    Yes          Email Opened  \n",
       "3                                     No              Modified  \n",
       "4                                     No              Modified  "
      ]
     },
     "execution_count": 5,
     "metadata": {},
     "output_type": "execute_result"
    }
   ],
   "source": [
    "pd.set_option('display.max_columns', 50)\n",
    "pd.set_option('display.max_rows', 50)\n",
    "data.head()"
   ]
  },
  {
   "cell_type": "markdown",
   "metadata": {},
   "source": [
    "## Data Quality Check"
   ]
  },
  {
   "cell_type": "code",
   "execution_count": 6,
   "metadata": {},
   "outputs": [
    {
     "data": {
      "text/html": [
       "<div>\n",
       "<style scoped>\n",
       "    .dataframe tbody tr th:only-of-type {\n",
       "        vertical-align: middle;\n",
       "    }\n",
       "\n",
       "    .dataframe tbody tr th {\n",
       "        vertical-align: top;\n",
       "    }\n",
       "\n",
       "    .dataframe thead th {\n",
       "        text-align: right;\n",
       "    }\n",
       "</style>\n",
       "<table border=\"1\" class=\"dataframe\">\n",
       "  <thead>\n",
       "    <tr style=\"text-align: right;\">\n",
       "      <th></th>\n",
       "      <th>Lead Number</th>\n",
       "      <th>Converted</th>\n",
       "      <th>TotalVisits</th>\n",
       "      <th>Total Time Spent on Website</th>\n",
       "      <th>Page Views Per Visit</th>\n",
       "      <th>Asymmetrique Activity Score</th>\n",
       "      <th>Asymmetrique Profile Score</th>\n",
       "    </tr>\n",
       "  </thead>\n",
       "  <tbody>\n",
       "    <tr>\n",
       "      <th>count</th>\n",
       "      <td>9240.000000</td>\n",
       "      <td>9240.000000</td>\n",
       "      <td>9103.000000</td>\n",
       "      <td>9240.000000</td>\n",
       "      <td>9103.000000</td>\n",
       "      <td>5022.000000</td>\n",
       "      <td>5022.000000</td>\n",
       "    </tr>\n",
       "    <tr>\n",
       "      <th>mean</th>\n",
       "      <td>617188.435606</td>\n",
       "      <td>0.385390</td>\n",
       "      <td>3.445238</td>\n",
       "      <td>487.698268</td>\n",
       "      <td>2.362820</td>\n",
       "      <td>14.306252</td>\n",
       "      <td>16.344883</td>\n",
       "    </tr>\n",
       "    <tr>\n",
       "      <th>std</th>\n",
       "      <td>23405.995698</td>\n",
       "      <td>0.486714</td>\n",
       "      <td>4.854853</td>\n",
       "      <td>548.021466</td>\n",
       "      <td>2.161418</td>\n",
       "      <td>1.386694</td>\n",
       "      <td>1.811395</td>\n",
       "    </tr>\n",
       "    <tr>\n",
       "      <th>min</th>\n",
       "      <td>579533.000000</td>\n",
       "      <td>0.000000</td>\n",
       "      <td>0.000000</td>\n",
       "      <td>0.000000</td>\n",
       "      <td>0.000000</td>\n",
       "      <td>7.000000</td>\n",
       "      <td>11.000000</td>\n",
       "    </tr>\n",
       "    <tr>\n",
       "      <th>25%</th>\n",
       "      <td>596484.500000</td>\n",
       "      <td>0.000000</td>\n",
       "      <td>1.000000</td>\n",
       "      <td>12.000000</td>\n",
       "      <td>1.000000</td>\n",
       "      <td>14.000000</td>\n",
       "      <td>15.000000</td>\n",
       "    </tr>\n",
       "    <tr>\n",
       "      <th>50%</th>\n",
       "      <td>615479.000000</td>\n",
       "      <td>0.000000</td>\n",
       "      <td>3.000000</td>\n",
       "      <td>248.000000</td>\n",
       "      <td>2.000000</td>\n",
       "      <td>14.000000</td>\n",
       "      <td>16.000000</td>\n",
       "    </tr>\n",
       "    <tr>\n",
       "      <th>75%</th>\n",
       "      <td>637387.250000</td>\n",
       "      <td>1.000000</td>\n",
       "      <td>5.000000</td>\n",
       "      <td>936.000000</td>\n",
       "      <td>3.000000</td>\n",
       "      <td>15.000000</td>\n",
       "      <td>18.000000</td>\n",
       "    </tr>\n",
       "    <tr>\n",
       "      <th>max</th>\n",
       "      <td>660737.000000</td>\n",
       "      <td>1.000000</td>\n",
       "      <td>251.000000</td>\n",
       "      <td>2272.000000</td>\n",
       "      <td>55.000000</td>\n",
       "      <td>18.000000</td>\n",
       "      <td>20.000000</td>\n",
       "    </tr>\n",
       "  </tbody>\n",
       "</table>\n",
       "</div>"
      ],
      "text/plain": [
       "         Lead Number    Converted  TotalVisits  Total Time Spent on Website  \\\n",
       "count    9240.000000  9240.000000  9103.000000                  9240.000000   \n",
       "mean   617188.435606     0.385390     3.445238                   487.698268   \n",
       "std     23405.995698     0.486714     4.854853                   548.021466   \n",
       "min    579533.000000     0.000000     0.000000                     0.000000   \n",
       "25%    596484.500000     0.000000     1.000000                    12.000000   \n",
       "50%    615479.000000     0.000000     3.000000                   248.000000   \n",
       "75%    637387.250000     1.000000     5.000000                   936.000000   \n",
       "max    660737.000000     1.000000   251.000000                  2272.000000   \n",
       "\n",
       "       Page Views Per Visit  Asymmetrique Activity Score  \\\n",
       "count           9103.000000                  5022.000000   \n",
       "mean               2.362820                    14.306252   \n",
       "std                2.161418                     1.386694   \n",
       "min                0.000000                     7.000000   \n",
       "25%                1.000000                    14.000000   \n",
       "50%                2.000000                    14.000000   \n",
       "75%                3.000000                    15.000000   \n",
       "max               55.000000                    18.000000   \n",
       "\n",
       "       Asymmetrique Profile Score  \n",
       "count                 5022.000000  \n",
       "mean                    16.344883  \n",
       "std                      1.811395  \n",
       "min                     11.000000  \n",
       "25%                     15.000000  \n",
       "50%                     16.000000  \n",
       "75%                     18.000000  \n",
       "max                     20.000000  "
      ]
     },
     "execution_count": 6,
     "metadata": {},
     "output_type": "execute_result"
    }
   ],
   "source": [
    "# melihat persebaran data (min, max, Quantile)\n",
    "data.describe() # untuk data numeric\n",
    "\n",
    "#data.describe(include=['O']) # untuk data categoric"
   ]
  },
  {
   "cell_type": "code",
   "execution_count": 7,
   "metadata": {},
   "outputs": [
    {
     "data": {
      "text/plain": [
       "Prospect ID                                       9240\n",
       "Lead Number                                       9240\n",
       "Lead Origin                                          5\n",
       "Lead Source                                         21\n",
       "Do Not Email                                         2\n",
       "Do Not Call                                          2\n",
       "Converted                                            2\n",
       "TotalVisits                                         41\n",
       "Total Time Spent on Website                       1731\n",
       "Page Views Per Visit                               114\n",
       "Last Activity                                       17\n",
       "Country                                             38\n",
       "Specialization                                      19\n",
       "How did you hear about Madugital                    10\n",
       "What is your current occupation                      6\n",
       "What matters most to you in choosing a product       3\n",
       "Search                                               2\n",
       "Magazine                                             1\n",
       "Newspaper Article                                    2\n",
       "Madugital Telegram                                   2\n",
       "Newspaper                                            2\n",
       "Digital Advertisement                                2\n",
       "Through Recommendations                              2\n",
       "Receive More Updates About Our Products              1\n",
       "Tags                                                26\n",
       "Lead Quality                                         5\n",
       "Update me on Supply Chain Content                    1\n",
       "Get updates on DM Content                            1\n",
       "Lead Profile                                         6\n",
       "City                                                 7\n",
       "Asymmetrique Activity Index                          3\n",
       "Asymmetrique Profile Index                           3\n",
       "Asymmetrique Activity Score                         12\n",
       "Asymmetrique Profile Score                          10\n",
       "I agree to pay the amount through cheque             1\n",
       "A free copy of Mastering The Interview               2\n",
       "Last Notable Activity                               16\n",
       "dtype: int64"
      ]
     },
     "execution_count": 7,
     "metadata": {},
     "output_type": "execute_result"
    }
   ],
   "source": [
    "data.nunique()"
   ]
  },
  {
   "cell_type": "code",
   "execution_count": 8,
   "metadata": {},
   "outputs": [
    {
     "data": {
      "text/plain": [
       "Prospect ID                                          0\n",
       "Lead Number                                          0\n",
       "Lead Origin                                          0\n",
       "Lead Source                                         36\n",
       "Do Not Email                                         0\n",
       "Do Not Call                                          0\n",
       "Converted                                            0\n",
       "TotalVisits                                        137\n",
       "Total Time Spent on Website                          0\n",
       "Page Views Per Visit                               137\n",
       "Last Activity                                      103\n",
       "Country                                           2461\n",
       "Specialization                                    1438\n",
       "How did you hear about Madugital                  2207\n",
       "What is your current occupation                   2690\n",
       "What matters most to you in choosing a product    2709\n",
       "Search                                               0\n",
       "Magazine                                             0\n",
       "Newspaper Article                                    0\n",
       "Madugital Telegram                                   0\n",
       "Newspaper                                            0\n",
       "Digital Advertisement                                0\n",
       "Through Recommendations                              0\n",
       "Receive More Updates About Our Products              0\n",
       "Tags                                              3353\n",
       "Lead Quality                                      4767\n",
       "Update me on Supply Chain Content                    0\n",
       "Get updates on DM Content                            0\n",
       "Lead Profile                                      2709\n",
       "City                                              1420\n",
       "Asymmetrique Activity Index                       4218\n",
       "Asymmetrique Profile Index                        4218\n",
       "Asymmetrique Activity Score                       4218\n",
       "Asymmetrique Profile Score                        4218\n",
       "I agree to pay the amount through cheque             0\n",
       "A free copy of Mastering The Interview               0\n",
       "Last Notable Activity                                0\n",
       "dtype: int64"
      ]
     },
     "execution_count": 8,
     "metadata": {},
     "output_type": "execute_result"
    }
   ],
   "source": [
    "# melihat apakah ada kolom yang nilainya kosong\n",
    "data.isnull().sum() # melihat jumlah value yang kosong"
   ]
  },
  {
   "cell_type": "code",
   "execution_count": 9,
   "metadata": {},
   "outputs": [
    {
     "data": {
      "text/plain": [
       "Prospect ID                                        0.000000\n",
       "Lead Number                                        0.000000\n",
       "Lead Origin                                        0.000000\n",
       "Lead Source                                        0.389610\n",
       "Do Not Email                                       0.000000\n",
       "Do Not Call                                        0.000000\n",
       "Converted                                          0.000000\n",
       "TotalVisits                                        1.482684\n",
       "Total Time Spent on Website                        0.000000\n",
       "Page Views Per Visit                               1.482684\n",
       "Last Activity                                      1.114719\n",
       "Country                                           26.634199\n",
       "Specialization                                    15.562771\n",
       "How did you hear about Madugital                  23.885281\n",
       "What is your current occupation                   29.112554\n",
       "What matters most to you in choosing a product    29.318182\n",
       "Search                                             0.000000\n",
       "Magazine                                           0.000000\n",
       "Newspaper Article                                  0.000000\n",
       "Madugital Telegram                                 0.000000\n",
       "Newspaper                                          0.000000\n",
       "Digital Advertisement                              0.000000\n",
       "Through Recommendations                            0.000000\n",
       "Receive More Updates About Our Products            0.000000\n",
       "Tags                                              36.287879\n",
       "Lead Quality                                      51.590909\n",
       "Update me on Supply Chain Content                  0.000000\n",
       "Get updates on DM Content                          0.000000\n",
       "Lead Profile                                      29.318182\n",
       "City                                              15.367965\n",
       "Asymmetrique Activity Index                       45.649351\n",
       "Asymmetrique Profile Index                        45.649351\n",
       "Asymmetrique Activity Score                       45.649351\n",
       "Asymmetrique Profile Score                        45.649351\n",
       "I agree to pay the amount through cheque           0.000000\n",
       "A free copy of Mastering The Interview             0.000000\n",
       "Last Notable Activity                              0.000000\n",
       "dtype: float64"
      ]
     },
     "execution_count": 9,
     "metadata": {},
     "output_type": "execute_result"
    }
   ],
   "source": [
    "data.isna().mean() * 100 # persentase baris yang kosong dari keseluruhan"
   ]
  },
  {
   "cell_type": "markdown",
   "metadata": {},
   "source": [
    "# 2 Data Preparation"
   ]
  },
  {
   "cell_type": "code",
   "execution_count": 10,
   "metadata": {},
   "outputs": [
    {
     "name": "stdout",
     "output_type": "stream",
     "text": [
      "<class 'pandas.core.frame.DataFrame'>\n",
      "RangeIndex: 9240 entries, 0 to 9239\n",
      "Data columns (total 37 columns):\n",
      " #   Column                                          Non-Null Count  Dtype  \n",
      "---  ------                                          --------------  -----  \n",
      " 0   Prospect ID                                     9240 non-null   object \n",
      " 1   Lead Number                                     9240 non-null   int64  \n",
      " 2   Lead Origin                                     9240 non-null   object \n",
      " 3   Lead Source                                     9204 non-null   object \n",
      " 4   Do Not Email                                    9240 non-null   object \n",
      " 5   Do Not Call                                     9240 non-null   object \n",
      " 6   Converted                                       9240 non-null   int64  \n",
      " 7   TotalVisits                                     9103 non-null   float64\n",
      " 8   Total Time Spent on Website                     9240 non-null   int64  \n",
      " 9   Page Views Per Visit                            9103 non-null   float64\n",
      " 10  Last Activity                                   9137 non-null   object \n",
      " 11  Country                                         6779 non-null   object \n",
      " 12  Specialization                                  7802 non-null   object \n",
      " 13  How did you hear about Madugital                7033 non-null   object \n",
      " 14  What is your current occupation                 6550 non-null   object \n",
      " 15  What matters most to you in choosing a product  6531 non-null   object \n",
      " 16  Search                                          9240 non-null   object \n",
      " 17  Magazine                                        9240 non-null   object \n",
      " 18  Newspaper Article                               9240 non-null   object \n",
      " 19  Madugital Telegram                              9240 non-null   object \n",
      " 20  Newspaper                                       9240 non-null   object \n",
      " 21  Digital Advertisement                           9240 non-null   object \n",
      " 22  Through Recommendations                         9240 non-null   object \n",
      " 23  Receive More Updates About Our Products         9240 non-null   object \n",
      " 24  Tags                                            5887 non-null   object \n",
      " 25  Lead Quality                                    4473 non-null   object \n",
      " 26  Update me on Supply Chain Content               9240 non-null   object \n",
      " 27  Get updates on DM Content                       9240 non-null   object \n",
      " 28  Lead Profile                                    6531 non-null   object \n",
      " 29  City                                            7820 non-null   object \n",
      " 30  Asymmetrique Activity Index                     5022 non-null   object \n",
      " 31  Asymmetrique Profile Index                      5022 non-null   object \n",
      " 32  Asymmetrique Activity Score                     5022 non-null   float64\n",
      " 33  Asymmetrique Profile Score                      5022 non-null   float64\n",
      " 34  I agree to pay the amount through cheque        9240 non-null   object \n",
      " 35  A free copy of Mastering The Interview          9240 non-null   object \n",
      " 36  Last Notable Activity                           9240 non-null   object \n",
      "dtypes: float64(4), int64(3), object(30)\n",
      "memory usage: 2.6+ MB\n"
     ]
    }
   ],
   "source": [
    "data.info()"
   ]
  },
  {
   "cell_type": "markdown",
   "metadata": {},
   "source": [
    "## Handling Data"
   ]
  },
  {
   "cell_type": "markdown",
   "metadata": {},
   "source": [
    "### Lead origin columns"
   ]
  },
  {
   "cell_type": "code",
   "execution_count": 11,
   "metadata": {},
   "outputs": [
    {
     "name": "stdout",
     "output_type": "stream",
     "text": [
      "\n",
      "Before\n"
     ]
    },
    {
     "data": {
      "text/plain": [
       "Lead Origin\n",
       "Landing Page Submission    4886\n",
       "API                        3580\n",
       "Lead Add Form               718\n",
       "Lead Import                  55\n",
       "Quick Add Form                1\n",
       "Name: count, dtype: int64"
      ]
     },
     "metadata": {},
     "output_type": "display_data"
    }
   ],
   "source": [
    "## Untuk Kolom Prospect ID & Lead Number tidak ada masalah unique values dan non-null count sama yaitu `9240`\n",
    "## untuk kolom Lead Origin memiliki value yang hanya 1 yaitu Quick Add Form, kita gabungkan dengan Lead Ads Form\n",
    "print(\"\\nBefore\")\n",
    "display(data['Lead Origin'].value_counts())"
   ]
  },
  {
   "cell_type": "code",
   "execution_count": 12,
   "metadata": {},
   "outputs": [
    {
     "name": "stdout",
     "output_type": "stream",
     "text": [
      "\n",
      "After\n"
     ]
    },
    {
     "data": {
      "text/plain": [
       "Lead Origin\n",
       "Landing Page Submission    4886\n",
       "API                        3580\n",
       "Add Form                    719\n",
       "Lead Import                  55\n",
       "Name: count, dtype: int64"
      ]
     },
     "metadata": {},
     "output_type": "display_data"
    }
   ],
   "source": [
    "data['Lead Origin'] = np.where(data['Lead Origin'].str.contains(\"Add Form\"), \"Add Form\", data['Lead Origin'])\n",
    "print(\"\\nAfter\")\n",
    "display(data['Lead Origin'].value_counts())"
   ]
  },
  {
   "cell_type": "markdown",
   "metadata": {},
   "source": [
    "### Lead Source columns"
   ]
  },
  {
   "cell_type": "code",
   "execution_count": 13,
   "metadata": {},
   "outputs": [
    {
     "name": "stdout",
     "output_type": "stream",
     "text": [
      "\n",
      "Before\n"
     ]
    },
    {
     "data": {
      "text/plain": [
       "Lead Source\n",
       "Google               0.310390\n",
       "Direct Traffic       0.275216\n",
       "Olark Chat           0.189935\n",
       "Organic Search       0.124892\n",
       "Reference            0.057792\n",
       "Welingak Website     0.015368\n",
       "Referral Sites       0.013528\n",
       "Facebook             0.005952\n",
       "Not Specified        0.003896\n",
       "bing                 0.000649\n",
       "google               0.000541\n",
       "Click2call           0.000433\n",
       "Live Chat            0.000216\n",
       "Social Media         0.000216\n",
       "Press_Release        0.000216\n",
       "Pay per Click Ads    0.000108\n",
       "blog                 0.000108\n",
       "WeLearn              0.000108\n",
       "welearnblog_Home     0.000108\n",
       "youtubechannel       0.000108\n",
       "testone              0.000108\n",
       "NC_EDM               0.000108\n",
       "Name: proportion, dtype: float64"
      ]
     },
     "metadata": {},
     "output_type": "display_data"
    }
   ],
   "source": [
    "## untuk kolom Lead Source, mari kita ganti Source yang kurang dari 1% populasi menjadi `Others`\n",
    "# Tampilkan jumlah nilai untuk kolom 'Lead Source', dinormalisasi untuk menampilkan persentase\n",
    "data['Lead Source'] = data['Lead Source'].fillna('Not Specified')\n",
    "print(\"\\nBefore\")\n",
    "display(data['Lead Source'].value_counts(normalize=True))"
   ]
  },
  {
   "cell_type": "code",
   "execution_count": 14,
   "metadata": {},
   "outputs": [
    {
     "name": "stdout",
     "output_type": "stream",
     "text": [
      "\n",
      "After\n"
     ]
    },
    {
     "data": {
      "text/plain": [
       "Lead Source\n",
       "Google              0.310390\n",
       "Direct Traffic      0.275216\n",
       "Olark Chat          0.189935\n",
       "Organic Search      0.124892\n",
       "Reference           0.057792\n",
       "Welingak Website    0.015368\n",
       "Referral Sites      0.013528\n",
       "Others              0.012879\n",
       "Name: proportion, dtype: float64"
      ]
     },
     "metadata": {},
     "output_type": "display_data"
    }
   ],
   "source": [
    "# Lanjutkan dengan kode untuk mengganti Lead Source yang menyumbang kurang dari 1% populasi dengan 'Others'\n",
    "threshold = 0.01  # 1% threshold\n",
    "sources_to_replace = data['Lead Source'].value_counts(normalize=True)[data['Lead Source'].value_counts(normalize=True) < threshold].index\n",
    "\n",
    "# Ganti Lead Source yang menyumbang kurang dari 1% populasi dengan 'Others'\n",
    "data['Lead Source'] = data['Lead Source'].apply(lambda x: 'Others' if x in sources_to_replace else x)\n",
    "print(\"\\nAfter\")\n",
    "display(data['Lead Source'].value_counts(normalize=True))"
   ]
  },
  {
   "cell_type": "markdown",
   "metadata": {},
   "source": [
    "### Total Visit Columns"
   ]
  },
  {
   "cell_type": "code",
   "execution_count": 15,
   "metadata": {},
   "outputs": [
    {
     "data": {
      "text/plain": [
       "count    9103.000000\n",
       "mean        3.445238\n",
       "std         4.854853\n",
       "min         0.000000\n",
       "25%         1.000000\n",
       "50%         3.000000\n",
       "75%         5.000000\n",
       "max       251.000000\n",
       "Name: TotalVisits, dtype: float64"
      ]
     },
     "metadata": {},
     "output_type": "display_data"
    },
    {
     "data": {
      "text/plain": [
       "count    9240.000000\n",
       "mean        3.394156\n",
       "std         4.836682\n",
       "min         0.000000\n",
       "25%         0.000000\n",
       "50%         3.000000\n",
       "75%         5.000000\n",
       "max       251.000000\n",
       "Name: TotalVisits, dtype: float64"
      ]
     },
     "metadata": {},
     "output_type": "display_data"
    }
   ],
   "source": [
    "display(data['TotalVisits'].describe()) ## ada null values, mari kita isi dengan `0`\n",
    "\n",
    "data['TotalVisits'] = data['TotalVisits'].fillna(0)\n",
    "display(data['TotalVisits'].describe()) "
   ]
  },
  {
   "cell_type": "markdown",
   "metadata": {},
   "source": [
    "### Page Views Per Visit"
   ]
  },
  {
   "cell_type": "code",
   "execution_count": 16,
   "metadata": {},
   "outputs": [
    {
     "data": {
      "text/plain": [
       "count    9103.000000\n",
       "mean        2.362820\n",
       "std         2.161418\n",
       "min         0.000000\n",
       "25%         1.000000\n",
       "50%         2.000000\n",
       "75%         3.000000\n",
       "max        55.000000\n",
       "Name: Page Views Per Visit, dtype: float64"
      ]
     },
     "metadata": {},
     "output_type": "display_data"
    },
    {
     "data": {
      "text/plain": [
       "count    9240.000000\n",
       "mean        2.327787\n",
       "std         2.164258\n",
       "min         0.000000\n",
       "25%         0.000000\n",
       "50%         2.000000\n",
       "75%         3.000000\n",
       "max        55.000000\n",
       "Name: Page Views Per Visit, dtype: float64"
      ]
     },
     "metadata": {},
     "output_type": "display_data"
    }
   ],
   "source": [
    "display(data['Page Views Per Visit'].describe()) ## ada null values, mari kita isi dengan `0`\n",
    "\n",
    "data['Page Views Per Visit'] = data['Page Views Per Visit'].fillna(0)\n",
    "display(data['Page Views Per Visit'].describe()) \n"
   ]
  },
  {
   "cell_type": "markdown",
   "metadata": {},
   "source": [
    "### Last Activity Columns"
   ]
  },
  {
   "cell_type": "code",
   "execution_count": 17,
   "metadata": {},
   "outputs": [
    {
     "data": {
      "text/plain": [
       "Last Activity\n",
       "Email Opened                    3437\n",
       "SMS Sent                        2745\n",
       "Olark Chat Conversation          973\n",
       "Page Visited on Website          640\n",
       "Converted to Lead                428\n",
       "Email Bounced                    326\n",
       "Email Link Clicked               267\n",
       "Form Submitted on Website        116\n",
       "Unreachable                       93\n",
       "Unsubscribed                      61\n",
       "Had a Phone Conversation          30\n",
       "Approached upfront                 9\n",
       "View in browser link Clicked       6\n",
       "Email Marked Spam                  2\n",
       "Email Received                     2\n",
       "Resubscribed to emails             1\n",
       "Visited Booth in Tradeshow         1\n",
       "Name: count, dtype: int64"
      ]
     },
     "metadata": {},
     "output_type": "display_data"
    }
   ],
   "source": [
    "## mari kita kelompokan aktivitas menjadi Good, Bad, dan Neutral\n",
    "display(data['Last Activity'].value_counts())"
   ]
  },
  {
   "cell_type": "code",
   "execution_count": 18,
   "metadata": {},
   "outputs": [
    {
     "data": {
      "text/plain": [
       "Last Activity Category\n",
       "Good       4500\n",
       "Neutral    4155\n",
       "Bad         585\n",
       "Name: count, dtype: int64"
      ]
     },
     "metadata": {},
     "output_type": "display_data"
    }
   ],
   "source": [
    "# Definisikan kategori berdasarkan sudut pandang perusahaan (subjektif)\n",
    "good_activities = ['Email Opened', 'Resubscribed to emails',  'Page Visited on Website', 'Form Submitted on Website', 'Email Link Clicked', 'Had a Phone Conversation', 'Approached upfront']\n",
    "bad_activities = ['Email Bounced', 'Unreachable', 'Unsubscribed', 'Email Marked Spam']\n",
    "neutral_activities = ['Email Received', 'SMS Sent', 'Olark Chat Conversation', 'Converted to Lead', 'View in browser link Clicked', 'Visited Booth in Tradeshow']\n",
    "\n",
    "# Categorize 'Last Activity' menjadi Good, Bad, atau Neutral\n",
    "data['Last Activity Category'] = data['Last Activity'].apply(lambda x: 'Good' if x in good_activities else ('Neutral' if x in neutral_activities else 'Bad')) # Jika `Last Activity` kosong, maka dianggap Bad\n",
    "\n",
    "# Tampilkan\n",
    "last_activity_category_counts = data['Last Activity Category'].value_counts()\n",
    "display(last_activity_category_counts)\n",
    "\n",
    "data = data.drop(columns=['Last Activity']) # kita coba drop saja"
   ]
  },
  {
   "cell_type": "markdown",
   "metadata": {},
   "source": [
    "### Country"
   ]
  },
  {
   "cell_type": "code",
   "execution_count": 19,
   "metadata": {},
   "outputs": [
    {
     "name": "stdout",
     "output_type": "stream",
     "text": [
      "\n",
      "Before\n"
     ]
    },
    {
     "data": {
      "text/plain": [
       "Country\n",
       "Indonesia               6492\n",
       "United States             69\n",
       "United Arab Emirates      53\n",
       "Singapore                 24\n",
       "Saudi Arabia              21\n",
       "United Kingdom            15\n",
       "Australia                 13\n",
       "Qatar                     10\n",
       "Hong Kong                  7\n",
       "Bahrain                    7\n",
       "Oman                       6\n",
       "France                     6\n",
       "unknown                    5\n",
       "Kuwait                     4\n",
       "South Africa               4\n",
       "Nigeria                    4\n",
       "Germany                    4\n",
       "Canada                     4\n",
       "Sweden                     3\n",
       "Italy                      2\n",
       "Belgium                    2\n",
       "Ghana                      2\n",
       "Philippines                2\n",
       "Netherlands                2\n",
       "China                      2\n",
       "Asia/Pacific Region        2\n",
       "Bangladesh                 2\n",
       "Uganda                     2\n",
       "Russia                     1\n",
       "Sri Lanka                  1\n",
       "Tanzania                   1\n",
       "Kenya                      1\n",
       "Malaysia                   1\n",
       "Liberia                    1\n",
       "Denmark                    1\n",
       "Switzerland                1\n",
       "Vietnam                    1\n",
       "India                      1\n",
       "Name: count, dtype: int64"
      ]
     },
     "metadata": {},
     "output_type": "display_data"
    }
   ],
   "source": [
    "# Mari kita ubah menjadi Indonesia & Outside Indoneisa\n",
    "print(\"\\nBefore\")\n",
    "display(data['Country'].value_counts())\n"
   ]
  },
  {
   "cell_type": "code",
   "execution_count": 20,
   "metadata": {},
   "outputs": [
    {
     "name": "stdout",
     "output_type": "stream",
     "text": [
      "\n",
      "After\n"
     ]
    },
    {
     "data": {
      "text/plain": [
       "Country\n",
       "Indonesia            6492\n",
       "Outside Indonesia    2748\n",
       "Name: count, dtype: int64"
      ]
     },
     "metadata": {},
     "output_type": "display_data"
    }
   ],
   "source": [
    "data['Country'] = np.where(data['Country']=='Indonesia', 'Indonesia', 'Outside Indonesia') # termasuk yang Null/None\n",
    "\n",
    "print(\"\\nAfter\")\n",
    "display(data['Country'].value_counts())"
   ]
  },
  {
   "cell_type": "markdown",
   "metadata": {},
   "source": [
    "### Specialization"
   ]
  },
  {
   "cell_type": "code",
   "execution_count": 21,
   "metadata": {},
   "outputs": [
    {
     "name": "stdout",
     "output_type": "stream",
     "text": [
      "\n",
      "Before\n"
     ]
    },
    {
     "data": {
      "text/plain": [
       "Specialization\n",
       "Select                               1942\n",
       "Finance Management                    976\n",
       "Human Resource Management             848\n",
       "Marketing Management                  838\n",
       "Operations Management                 503\n",
       "Business Administration               403\n",
       "IT Projects Management                366\n",
       "Supply Chain Management               349\n",
       "Banking, Investment And Insurance     338\n",
       "Media and Advertising                 203\n",
       "Travel and Tourism                    203\n",
       "International Business                178\n",
       "Healthcare Management                 159\n",
       "Hospitality Management                114\n",
       "E-COMMERCE                            112\n",
       "Retail Management                     100\n",
       "Rural and Agribusiness                 73\n",
       "E-Business                             57\n",
       "Services Excellence                    40\n",
       "Name: count, dtype: int64"
      ]
     },
     "metadata": {},
     "output_type": "display_data"
    }
   ],
   "source": [
    "# ubah `Select` menjadi 'Not Specified', begitu pula yang Null/None\n",
    "print(\"\\nBefore\")\n",
    "display(data['Specialization'].value_counts())\n",
    "\n"
   ]
  },
  {
   "cell_type": "code",
   "execution_count": 22,
   "metadata": {},
   "outputs": [
    {
     "name": "stdout",
     "output_type": "stream",
     "text": [
      "\n",
      "After\n"
     ]
    },
    {
     "data": {
      "text/plain": [
       "Specialization\n",
       "Not Specified                        3380\n",
       "Finance Management                    976\n",
       "Human Resource Management             848\n",
       "Marketing Management                  838\n",
       "Operations Management                 503\n",
       "Business Administration               403\n",
       "IT Projects Management                366\n",
       "Supply Chain Management               349\n",
       "Banking, Investment And Insurance     338\n",
       "Media and Advertising                 203\n",
       "Travel and Tourism                    203\n",
       "International Business                178\n",
       "Healthcare Management                 159\n",
       "Hospitality Management                114\n",
       "E-COMMERCE                            112\n",
       "Retail Management                     100\n",
       "Rural and Agribusiness                 73\n",
       "E-Business                             57\n",
       "Services Excellence                    40\n",
       "Name: count, dtype: int64"
      ]
     },
     "metadata": {},
     "output_type": "display_data"
    }
   ],
   "source": [
    "data['Specialization'] = np.where(data['Specialization']=='Select', 'Not Specified', data['Specialization'].fillna('Not Specified'))\n",
    "\n",
    "print(\"\\nAfter\")\n",
    "display(data['Specialization'].value_counts())"
   ]
  },
  {
   "cell_type": "markdown",
   "metadata": {},
   "source": [
    "### How did you hear about Madugital"
   ]
  },
  {
   "cell_type": "code",
   "execution_count": 23,
   "metadata": {},
   "outputs": [
    {
     "name": "stdout",
     "output_type": "stream",
     "text": [
      "\n",
      "Before\n"
     ]
    },
    {
     "data": {
      "text/plain": [
       "How did you hear about Madugital\n",
       "Select                   5043\n",
       "Online Search             808\n",
       "Word Of Mouth             348\n",
       "Student of SomeSchool     310\n",
       "Other                     186\n",
       "Multiple Sources          152\n",
       "Advertisements             70\n",
       "Social Media               67\n",
       "Email                      26\n",
       "SMS                        23\n",
       "Name: count, dtype: int64"
      ]
     },
     "metadata": {},
     "output_type": "display_data"
    }
   ],
   "source": [
    "# ubah `Select` menjadi 'Not Specified', begitu pula yang Null/None\n",
    "print(\"\\nBefore\")\n",
    "display(data['How did you hear about Madugital'].value_counts())"
   ]
  },
  {
   "cell_type": "code",
   "execution_count": 24,
   "metadata": {},
   "outputs": [
    {
     "name": "stdout",
     "output_type": "stream",
     "text": [
      "\n",
      "After\n"
     ]
    },
    {
     "data": {
      "text/plain": [
       "How did you hear about Madugital\n",
       "Not Specified            7250\n",
       "Online Search             808\n",
       "Word Of Mouth             348\n",
       "Student of SomeSchool     310\n",
       "Other                     186\n",
       "Multiple Sources          152\n",
       "Advertisements             70\n",
       "Social Media               67\n",
       "Email                      26\n",
       "SMS                        23\n",
       "Name: count, dtype: int64"
      ]
     },
     "metadata": {},
     "output_type": "display_data"
    }
   ],
   "source": [
    "data['How did you hear about Madugital'] = np.where(data['How did you hear about Madugital']=='Select', 'Not Specified', data['How did you hear about Madugital'].fillna('Not Specified'))\n",
    "\n",
    "print(\"\\nAfter\")\n",
    "display(data['How did you hear about Madugital'].value_counts())"
   ]
  },
  {
   "cell_type": "markdown",
   "metadata": {},
   "source": [
    "### What is your current occupation"
   ]
  },
  {
   "cell_type": "code",
   "execution_count": 25,
   "metadata": {},
   "outputs": [
    {
     "data": {
      "text/plain": [
       "What is your current occupation\n",
       "Unemployed              5600\n",
       "Not Specified           2690\n",
       "Working Professional     706\n",
       "Student                  210\n",
       "Other                     16\n",
       "Housewife                 10\n",
       "Businessman                8\n",
       "Name: count, dtype: int64"
      ]
     },
     "execution_count": 25,
     "metadata": {},
     "output_type": "execute_result"
    }
   ],
   "source": [
    "data['What is your current occupation'] = data['What is your current occupation'].fillna('Not Specified')\n",
    "data['What is your current occupation'].value_counts()"
   ]
  },
  {
   "cell_type": "markdown",
   "metadata": {},
   "source": [
    "### What matters most to you in choosing a product"
   ]
  },
  {
   "cell_type": "code",
   "execution_count": 26,
   "metadata": {},
   "outputs": [
    {
     "data": {
      "text/plain": [
       "What matters most to you in choosing a product\n",
       "Healthy for life    6528\n",
       "Not Specified       2709\n",
       "Branding               2\n",
       "Other                  1\n",
       "Name: count, dtype: int64"
      ]
     },
     "execution_count": 26,
     "metadata": {},
     "output_type": "execute_result"
    }
   ],
   "source": [
    "# ubah Null/None menjadi 'Not Specified'\n",
    "data['What matters most to you in choosing a product'] = data['What matters most to you in choosing a product'].fillna('Not Specified')\n",
    "data['What matters most to you in choosing a product'].value_counts()"
   ]
  },
  {
   "cell_type": "markdown",
   "metadata": {},
   "source": [
    "### Tags Column"
   ]
  },
  {
   "cell_type": "code",
   "execution_count": 27,
   "metadata": {},
   "outputs": [
    {
     "name": "stdout",
     "output_type": "stream",
     "text": [
      "\n",
      "Before\n"
     ]
    },
    {
     "data": {
      "text/plain": [
       "Tags\n",
       "Not Specified                                        0.362879\n",
       "Will revert after reading the email                  0.224242\n",
       "Ringing                                              0.130195\n",
       "Interested in other courses                          0.055519\n",
       "Already a student                                    0.050325\n",
       "Closed by Horizzon                                   0.038745\n",
       "switched off                                         0.025974\n",
       "Busy                                                 0.020130\n",
       "Lost to EINS                                         0.018939\n",
       "Not doing further education                          0.015693\n",
       "Interested  in full time MBA                         0.012662\n",
       "Graduation in progress                               0.012013\n",
       "invalid number                                       0.008983\n",
       "Diploma holder (Not Eligible)                        0.006818\n",
       "wrong number given                                   0.005087\n",
       "opp hangup                                           0.003571\n",
       "number not provided                                  0.002922\n",
       "in touch with EINS                                   0.001299\n",
       "Lost to Others                                       0.000758\n",
       "Want to take admission but has financial problems    0.000649\n",
       "Still Thinking                                       0.000649\n",
       "In confusion whether part time or DLP                0.000541\n",
       "Interested in Next batch                             0.000541\n",
       "Lateral student                                      0.000325\n",
       "Shall take in the next coming month                  0.000216\n",
       "University not recognized                            0.000216\n",
       "Recognition issue (DEC approval)                     0.000108\n",
       "Name: proportion, dtype: float64"
      ]
     },
     "metadata": {},
     "output_type": "display_data"
    }
   ],
   "source": [
    "## untuk kolom Tags, mari kita ganti yang kurang dari 1% populasi menjadi `Others`\n",
    "# Tampilkan jumlah nilai untuk kolom 'Tags', dinormalisasi untuk menampilkan persentase\n",
    "data['Tags'] = data['Tags'].fillna('Not Specified')\n",
    "tags_percentage = data['Tags'].value_counts(normalize=True)\n",
    "print(\"\\nBefore\")\n",
    "display(tags_percentage)"
   ]
  },
  {
   "cell_type": "code",
   "execution_count": 28,
   "metadata": {},
   "outputs": [
    {
     "name": "stdout",
     "output_type": "stream",
     "text": [
      "\n",
      "After\n"
     ]
    },
    {
     "data": {
      "text/plain": [
       "Tags\n",
       "Not Specified                          0.362879\n",
       "Will revert after reading the email    0.224242\n",
       "Ringing                                0.130195\n",
       "Interested in other courses            0.055519\n",
       "Already a student                      0.050325\n",
       "Closed by Horizzon                     0.038745\n",
       "Others                                 0.032684\n",
       "switched off                           0.025974\n",
       "Busy                                   0.020130\n",
       "Lost to EINS                           0.018939\n",
       "Not doing further education            0.015693\n",
       "Interested  in full time MBA           0.012662\n",
       "Graduation in progress                 0.012013\n",
       "Name: proportion, dtype: float64"
      ]
     },
     "metadata": {},
     "output_type": "display_data"
    }
   ],
   "source": [
    "# Lanjutkan dengan kode untuk mengganti Tags yang menyumbang kurang dari 1% populasi dengan 'Others'\n",
    "threshold = 0.01  # 1% threshold\n",
    "sources_to_replace = tags_percentage[tags_percentage < threshold].index\n",
    "\n",
    "# Ganti Tags yang menyumbang kurang dari 1% populasi dengan 'Others'\n",
    "data['Tags'] = data['Tags'].apply(lambda x: 'Others' if x in sources_to_replace else x)\n",
    "print(\"\\nAfter\")\n",
    "display(data['Tags'].value_counts(normalize=True))"
   ]
  },
  {
   "cell_type": "markdown",
   "metadata": {},
   "source": [
    "### Leads quality columns"
   ]
  },
  {
   "cell_type": "code",
   "execution_count": 29,
   "metadata": {},
   "outputs": [
    {
     "data": {
      "text/plain": [
       "Lead Quality\n",
       "Not Specified        4767\n",
       "Might be             1560\n",
       "Not Sure             1092\n",
       "High in Relevance     637\n",
       "Worst                 601\n",
       "Low in Relevance      583\n",
       "Name: count, dtype: int64"
      ]
     },
     "metadata": {},
     "output_type": "display_data"
    }
   ],
   "source": [
    "data['Lead Quality'] = data['Lead Quality'].fillna('Not Specified')\n",
    "display(data['Lead Quality'].value_counts())"
   ]
  },
  {
   "cell_type": "markdown",
   "metadata": {},
   "source": [
    "### Lead Profile"
   ]
  },
  {
   "cell_type": "code",
   "execution_count": 30,
   "metadata": {},
   "outputs": [
    {
     "data": {
      "text/plain": [
       "Lead Profile\n",
       "Not Specified                  6855\n",
       "Potential Lead                 1613\n",
       "Other Leads                     487\n",
       "Student of SomeSchool           241\n",
       "Lateral Student                  24\n",
       "Dual Specialization Student      20\n",
       "Name: count, dtype: int64"
      ]
     },
     "execution_count": 30,
     "metadata": {},
     "output_type": "execute_result"
    }
   ],
   "source": [
    "# ubah select jadi `Not Specified` dan yang null diisi sama\n",
    "data['Lead Profile'] = np.where(data['Lead Profile']=='Select', 'Not Specified', data['Lead Profile'].fillna('Not Specified'))\n",
    "data['Lead Profile'].value_counts()"
   ]
  },
  {
   "cell_type": "markdown",
   "metadata": {},
   "source": [
    "### City"
   ]
  },
  {
   "cell_type": "code",
   "execution_count": 31,
   "metadata": {},
   "outputs": [
    {
     "data": {
      "text/plain": [
       "City\n",
       "Not Specified                    3669\n",
       "Jakarta                          3222\n",
       "Bodetabek                         752\n",
       "Other Cities                      686\n",
       "Cities in Banten & Jawa Barat     457\n",
       "Other Metro Cities                380\n",
       "Tier II Cities                     74\n",
       "Name: count, dtype: int64"
      ]
     },
     "execution_count": 31,
     "metadata": {},
     "output_type": "execute_result"
    }
   ],
   "source": [
    "# ubah select jadi `Not Specified` dan yang null diisi sama\n",
    "data['City'] = np.where(data['City']=='Select', 'Not Specified', data['City'].fillna('Not Specified'))\n",
    "data['City'].value_counts()"
   ]
  },
  {
   "cell_type": "markdown",
   "metadata": {},
   "source": [
    "### Asymmetrique Activity Score, Asymmetrique Activity Index, Asymmetrique Profile Score, Asymmetrique Profile Index"
   ]
  },
  {
   "cell_type": "code",
   "execution_count": 32,
   "metadata": {},
   "outputs": [
    {
     "data": {
      "text/plain": [
       "Asymmetrique Activity Score\n",
       "0.0     4218\n",
       "14.0    1771\n",
       "15.0    1293\n",
       "13.0     775\n",
       "16.0     467\n",
       "17.0     349\n",
       "12.0     196\n",
       "11.0      95\n",
       "10.0      57\n",
       "9.0        9\n",
       "18.0       5\n",
       "8.0        4\n",
       "7.0        1\n",
       "Name: count, dtype: int64"
      ]
     },
     "metadata": {},
     "output_type": "display_data"
    },
    {
     "data": {
      "text/plain": [
       "Asymmetrique Activity Index\n",
       "00.Zero      4218\n",
       "02.Medium    3839\n",
       "01.High       821\n",
       "03.Low        362\n",
       "Name: count, dtype: int64"
      ]
     },
     "metadata": {},
     "output_type": "display_data"
    }
   ],
   "source": [
    "# isi missing values dengan 0 untuk Score / 00.Zero untku Index\n",
    "data['Asymmetrique Activity Score'] = data['Asymmetrique Activity Score'].fillna(0)\n",
    "data['Asymmetrique Activity Index'] = data['Asymmetrique Activity Index'].fillna('00.Zero')\n",
    "\n",
    "display(data['Asymmetrique Activity Score'].value_counts())\n",
    "display(data['Asymmetrique Activity Index'].value_counts())\n"
   ]
  },
  {
   "cell_type": "code",
   "execution_count": 33,
   "metadata": {},
   "outputs": [
    {
     "data": {
      "text/plain": [
       "Asymmetrique Profile Score\n",
       "0.0     4218\n",
       "15.0    1759\n",
       "18.0    1071\n",
       "16.0     599\n",
       "17.0     579\n",
       "20.0     308\n",
       "19.0     245\n",
       "14.0     226\n",
       "13.0     204\n",
       "12.0      22\n",
       "11.0       9\n",
       "Name: count, dtype: int64"
      ]
     },
     "metadata": {},
     "output_type": "display_data"
    },
    {
     "data": {
      "text/plain": [
       "Asymmetrique Profile Index\n",
       "00.Zero      4218\n",
       "02.Medium    2788\n",
       "01.High      2203\n",
       "03.Low         31\n",
       "Name: count, dtype: int64"
      ]
     },
     "metadata": {},
     "output_type": "display_data"
    }
   ],
   "source": [
    "data['Asymmetrique Profile Score'] = data['Asymmetrique Profile Score'].fillna(0)\n",
    "data['Asymmetrique Profile Index'] = data['Asymmetrique Profile Index'].fillna('00.Zero')\n",
    "display(data['Asymmetrique Profile Score'].value_counts())\n",
    "display(data['Asymmetrique Profile Index'].value_counts())"
   ]
  },
  {
   "cell_type": "markdown",
   "metadata": {},
   "source": [
    "### Last Notable Activity"
   ]
  },
  {
   "cell_type": "code",
   "execution_count": 34,
   "metadata": {},
   "outputs": [
    {
     "name": "stdout",
     "output_type": "stream",
     "text": [
      "\n",
      "Before\n"
     ]
    },
    {
     "data": {
      "text/plain": [
       "Last Notable Activity\n",
       "Modified                        0.368723\n",
       "Email Opened                    0.305952\n",
       "SMS Sent                        0.235065\n",
       "Page Visited on Website         0.034416\n",
       "Olark Chat Conversation         0.019805\n",
       "Email Link Clicked              0.018723\n",
       "Email Bounced                   0.006494\n",
       "Unsubscribed                    0.005087\n",
       "Unreachable                     0.003463\n",
       "Had a Phone Conversation        0.001515\n",
       "Email Marked Spam               0.000216\n",
       "Approached upfront              0.000108\n",
       "Resubscribed to emails          0.000108\n",
       "View in browser link Clicked    0.000108\n",
       "Form Submitted on Website       0.000108\n",
       "Email Received                  0.000108\n",
       "Name: proportion, dtype: float64"
      ]
     },
     "metadata": {},
     "output_type": "display_data"
    }
   ],
   "source": [
    "## untuk kolom Last Notable Activity, mari kita ganti yang kurang dari 1% populasi menjadi `Others`\n",
    "# Tampilkan jumlah nilai untuk kolom 'Last Notable Activity', dinormalisasi untuk menampilkan persentase\n",
    "data['Last Notable Activity'] = data['Last Notable Activity'].fillna('Not Specified')\n",
    "act_percentage = data['Last Notable Activity'].value_counts(normalize=True)\n",
    "print(\"\\nBefore\")\n",
    "display(act_percentage)\n"
   ]
  },
  {
   "cell_type": "code",
   "execution_count": 35,
   "metadata": {},
   "outputs": [
    {
     "name": "stdout",
     "output_type": "stream",
     "text": [
      "\n",
      "After\n"
     ]
    },
    {
     "data": {
      "text/plain": [
       "Last Notable Activity\n",
       "Modified                   0.368723\n",
       "Email Opened               0.305952\n",
       "SMS Sent                   0.235065\n",
       "Page Visited on Website    0.034416\n",
       "Olark Chat Conversation    0.019805\n",
       "Email Link Clicked         0.018723\n",
       "Others                     0.017316\n",
       "Name: proportion, dtype: float64"
      ]
     },
     "metadata": {},
     "output_type": "display_data"
    }
   ],
   "source": [
    "\n",
    "# Lanjutkan dengan kode untuk mengganti Last Notable Activity yang menyumbang kurang dari 1% populasi dengan 'Others'\n",
    "threshold = 0.01  # 1% threshold\n",
    "sources_to_replace = act_percentage[act_percentage < threshold].index\n",
    "\n",
    "# Ganti Last Notable Activity yang menyumbang kurang dari 1% populasi dengan 'Others'\n",
    "data['Last Notable Activity'] = data['Last Notable Activity'].apply(lambda x: 'Others' if x in sources_to_replace else x)\n",
    "print(\"\\nAfter\")\n",
    "display(data['Last Notable Activity'].value_counts(normalize=True))"
   ]
  },
  {
   "cell_type": "markdown",
   "metadata": {},
   "source": [
    "## No Need to handle"
   ]
  },
  {
   "cell_type": "code",
   "execution_count": 36,
   "metadata": {},
   "outputs": [
    {
     "name": "stdout",
     "output_type": "stream",
     "text": [
      "<class 'pandas.core.frame.DataFrame'>\n",
      "RangeIndex: 9240 entries, 0 to 9239\n",
      "Data columns (total 37 columns):\n",
      " #   Column                                          Non-Null Count  Dtype  \n",
      "---  ------                                          --------------  -----  \n",
      " 0   Prospect ID                                     9240 non-null   object \n",
      " 1   Lead Number                                     9240 non-null   int64  \n",
      " 2   Lead Origin                                     9240 non-null   object \n",
      " 3   Lead Source                                     9240 non-null   object \n",
      " 4   Do Not Email                                    9240 non-null   object \n",
      " 5   Do Not Call                                     9240 non-null   object \n",
      " 6   Converted                                       9240 non-null   int64  \n",
      " 7   TotalVisits                                     9240 non-null   float64\n",
      " 8   Total Time Spent on Website                     9240 non-null   int64  \n",
      " 9   Page Views Per Visit                            9240 non-null   float64\n",
      " 10  Country                                         9240 non-null   object \n",
      " 11  Specialization                                  9240 non-null   object \n",
      " 12  How did you hear about Madugital                9240 non-null   object \n",
      " 13  What is your current occupation                 9240 non-null   object \n",
      " 14  What matters most to you in choosing a product  9240 non-null   object \n",
      " 15  Search                                          9240 non-null   object \n",
      " 16  Magazine                                        9240 non-null   object \n",
      " 17  Newspaper Article                               9240 non-null   object \n",
      " 18  Madugital Telegram                              9240 non-null   object \n",
      " 19  Newspaper                                       9240 non-null   object \n",
      " 20  Digital Advertisement                           9240 non-null   object \n",
      " 21  Through Recommendations                         9240 non-null   object \n",
      " 22  Receive More Updates About Our Products         9240 non-null   object \n",
      " 23  Tags                                            9240 non-null   object \n",
      " 24  Lead Quality                                    9240 non-null   object \n",
      " 25  Update me on Supply Chain Content               9240 non-null   object \n",
      " 26  Get updates on DM Content                       9240 non-null   object \n",
      " 27  Lead Profile                                    9240 non-null   object \n",
      " 28  City                                            9240 non-null   object \n",
      " 29  Asymmetrique Activity Index                     9240 non-null   object \n",
      " 30  Asymmetrique Profile Index                      9240 non-null   object \n",
      " 31  Asymmetrique Activity Score                     9240 non-null   float64\n",
      " 32  Asymmetrique Profile Score                      9240 non-null   float64\n",
      " 33  I agree to pay the amount through cheque        9240 non-null   object \n",
      " 34  A free copy of Mastering The Interview          9240 non-null   object \n",
      " 35  Last Notable Activity                           9240 non-null   object \n",
      " 36  Last Activity Category                          9240 non-null   object \n",
      "dtypes: float64(4), int64(3), object(30)\n",
      "memory usage: 2.6+ MB\n"
     ]
    }
   ],
   "source": [
    "data.info()"
   ]
  },
  {
   "cell_type": "code",
   "execution_count": 37,
   "metadata": {},
   "outputs": [
    {
     "data": {
      "text/plain": [
       "Search  Magazine  Newspaper Article  Madugital Telegram  Newspaper  Digital Advertisement  Through Recommendations  Receive More Updates About Our Products\n",
       "No      No        No                 No                  No         No                     No                       No                                         9217\n",
       "Yes     No        No                 No                  No         No                     No                       No                                           11\n",
       "No      No        No                 No                  No         No                     Yes                      No                                            4\n",
       "                                                                    Yes                    No                       No                                            3\n",
       "Yes     No        No                 No                  No         No                     Yes                      No                                            2\n",
       "No      No        No                 No                  Yes        No                     No                       No                                            1\n",
       "                  Yes                No                  No         No                     No                       No                                            1\n",
       "Yes     No        Yes                Yes                 No         Yes                    Yes                      No                                            1\n",
       "Name: count, dtype: int64"
      ]
     },
     "execution_count": 37,
     "metadata": {},
     "output_type": "execute_result"
    }
   ],
   "source": [
    "cols = ['Search', 'Magazine',\n",
    "       'Newspaper Article', 'Madugital Telegram', 'Newspaper',\n",
    "       'Digital Advertisement', 'Through Recommendations',\n",
    "       'Receive More Updates About Our Products']\n",
    "data[cols].value_counts() # kolom aman"
   ]
  },
  {
   "cell_type": "code",
   "execution_count": 38,
   "metadata": {},
   "outputs": [
    {
     "data": {
      "text/plain": [
       "Update me on Supply Chain Content  Get updates on DM Content\n",
       "No                                 No                           9240\n",
       "Name: count, dtype: int64"
      ]
     },
     "execution_count": 38,
     "metadata": {},
     "output_type": "execute_result"
    }
   ],
   "source": [
    "data[['Update me on Supply Chain Content', 'Get updates on DM Content']].value_counts() # aman\n"
   ]
  },
  {
   "cell_type": "code",
   "execution_count": 39,
   "metadata": {},
   "outputs": [
    {
     "name": "stdout",
     "output_type": "stream",
     "text": [
      "Do Not Email\n",
      "No     8506\n",
      "Yes     734\n",
      "Name: count, dtype: int64 \n",
      "\n",
      "Do Not Call\n",
      "No     9238\n",
      "Yes       2\n",
      "Name: count, dtype: int64 \n",
      "\n",
      "Converted\n",
      "0    5679\n",
      "1    3561\n",
      "Name: count, dtype: int64 \n",
      "\n"
     ]
    }
   ],
   "source": [
    "print(data['Do Not Email'].value_counts(),'\\n') ## tidak ada yang perlu dihandling\n",
    "print(data['Do Not Call'].value_counts(),'\\n') ## tidak ada yang perlu dihandling\n",
    "print(data['Converted'].value_counts(),'\\n') ## tidak ada yang perlu dihandling\n",
    "\n"
   ]
  },
  {
   "cell_type": "code",
   "execution_count": 40,
   "metadata": {},
   "outputs": [
    {
     "data": {
      "text/plain": [
       "I agree to pay the amount through cheque  A free copy of Mastering The Interview\n",
       "No                                        No                                        6352\n",
       "                                          Yes                                       2888\n",
       "Name: count, dtype: int64"
      ]
     },
     "execution_count": 40,
     "metadata": {},
     "output_type": "execute_result"
    }
   ],
   "source": [
    "data[['I agree to pay the amount through cheque', 'A free copy of Mastering The Interview']].value_counts() # aman\n"
   ]
  },
  {
   "cell_type": "markdown",
   "metadata": {},
   "source": [
    "## Data Preparation"
   ]
  },
  {
   "cell_type": "markdown",
   "metadata": {},
   "source": [
    "### Delete Duplicated data"
   ]
  },
  {
   "cell_type": "code",
   "execution_count": 41,
   "metadata": {},
   "outputs": [
    {
     "name": "stderr",
     "output_type": "stream",
     "text": [
      "C:\\Users\\rolex\\AppData\\Local\\Temp\\ipykernel_10052\\3308260554.py:11: FutureWarning: Downcasting behavior in `replace` is deprecated and will be removed in a future version. To retain the old behavior, explicitly call `result.infer_objects(copy=False)`. To opt-in to the future behavior, set `pd.set_option('future.no_silent_downcasting', True)`\n",
      "  data[cols] = data[cols].replace({'Yes': 1, 'No': 0})\n"
     ]
    }
   ],
   "source": [
    "# Membuat direktori 'data' jika belum ada\n",
    "os.makedirs(\"data\", exist_ok=True)\n",
    "\n",
    "# Menghapus duplikat\n",
    "data = data.drop_duplicates()\n",
    "\n",
    "cols = ['I agree to pay the amount through cheque', 'A free copy of Mastering The Interview', 'Update me on Supply Chain Content', 'Get updates on DM Content', 'Search', 'Magazine',\n",
    "       'Newspaper Article', 'Madugital Telegram', 'Newspaper', 'Digital Advertisement', 'Through Recommendations', 'Receive More Updates About Our Products', 'Do Not Email', 'Do Not Call']\n",
    "\n",
    "# Ganti 'Yes' dengan 1 dan 'No' dengan 0 pada kolom-kolom diatas\n",
    "data[cols] = data[cols].replace({'Yes': 1, 'No': 0})\n",
    "\n",
    "saved_file_path = os.path.join(\"data\", \"prepared_leads_scoring3.csv\")\n",
    "data.to_csv(saved_file_path, index=False)"
   ]
  },
  {
   "cell_type": "code",
   "execution_count": 42,
   "metadata": {},
   "outputs": [],
   "source": [
    "# Identifikasi categorical dan numerical columns\n",
    "categorical_cols = data.select_dtypes(include=['object', 'category']).columns.tolist()\n",
    "numerical_cols = data.select_dtypes(include=['int64', 'float64']).columns.tolist()\n",
    "\n",
    "# Remove `Converted` kolom\n",
    "numerical_cols.remove('Converted')\n",
    "numerical_cols.remove('Lead Number')\n",
    "categorical_cols.remove('Prospect ID')\n",
    "\n"
   ]
  },
  {
   "cell_type": "code",
   "execution_count": 43,
   "metadata": {},
   "outputs": [
    {
     "data": {
      "text/plain": [
       "((7392, 123), (1848, 123))"
      ]
     },
     "execution_count": 43,
     "metadata": {},
     "output_type": "execute_result"
    }
   ],
   "source": [
    "from sklearn.pipeline import Pipeline\n",
    "from sklearn.impute import SimpleImputer\n",
    "from sklearn.preprocessing import StandardScaler, OneHotEncoder\n",
    "from sklearn.compose import ColumnTransformer\n",
    "from sklearn.model_selection import train_test_split\n",
    "\n",
    "# Pipeline untuk fitur numerik\n",
    "numeric_transformer = Pipeline(steps=[\n",
    "    ('imputer', SimpleImputer(strategy='constant', fill_value=0)),\n",
    "    ('scaler', StandardScaler())\n",
    "])\n",
    "\n",
    "# Pipeline untuk fitur kategorik\n",
    "categorical_transformer = Pipeline(steps=[\n",
    "    ('imputer', SimpleImputer(strategy='constant', fill_value='Not Specified')),\n",
    "    ('onehot', OneHotEncoder(handle_unknown='ignore'))\n",
    "])\n",
    "\n",
    "# menggabungkan transformer menjadi preprocessor\n",
    "preprocessor = ColumnTransformer(\n",
    "    transformers=[\n",
    "        ('num', numeric_transformer, numerical_cols),\n",
    "        ('cat', categorical_transformer, categorical_cols)\n",
    "    ])\n",
    "\n",
    "# Splitting the data into training and testing sets\n",
    "X = data.drop(columns=['Converted', 'Prospect ID', 'Lead Number'])\n",
    "y = data['Converted']\n",
    "X_train, X_test, y_train, y_test = train_test_split(X, y, test_size=0.2, random_state=42)\n",
    "\n",
    "# Applying the preprocessor to the training data\n",
    "X_train_preprocessed = preprocessor.fit_transform(X_train)\n",
    "X_test_preprocessed = preprocessor.transform(X_test)\n",
    "\n",
    "# Displaying the shape of the processed data\n",
    "X_train_preprocessed.shape, X_test_preprocessed.shape"
   ]
  },
  {
   "cell_type": "markdown",
   "metadata": {},
   "source": [
    "# 4 Data Modelling"
   ]
  },
  {
   "cell_type": "code",
   "execution_count": 44,
   "metadata": {},
   "outputs": [
    {
     "data": {
      "text/html": [
       "<div>\n",
       "<style scoped>\n",
       "    .dataframe tbody tr th:only-of-type {\n",
       "        vertical-align: middle;\n",
       "    }\n",
       "\n",
       "    .dataframe tbody tr th {\n",
       "        vertical-align: top;\n",
       "    }\n",
       "\n",
       "    .dataframe thead th {\n",
       "        text-align: right;\n",
       "    }\n",
       "</style>\n",
       "<table border=\"1\" class=\"dataframe\">\n",
       "  <thead>\n",
       "    <tr style=\"text-align: right;\">\n",
       "      <th></th>\n",
       "      <th>Prospect ID</th>\n",
       "      <th>Lead Number</th>\n",
       "      <th>Lead Origin</th>\n",
       "      <th>Lead Source</th>\n",
       "      <th>Do Not Email</th>\n",
       "      <th>Do Not Call</th>\n",
       "      <th>Converted</th>\n",
       "      <th>TotalVisits</th>\n",
       "      <th>Total Time Spent on Website</th>\n",
       "      <th>Page Views Per Visit</th>\n",
       "      <th>Country</th>\n",
       "      <th>Specialization</th>\n",
       "      <th>How did you hear about Madugital</th>\n",
       "      <th>What is your current occupation</th>\n",
       "      <th>What matters most to you in choosing a product</th>\n",
       "      <th>Search</th>\n",
       "      <th>Magazine</th>\n",
       "      <th>Newspaper Article</th>\n",
       "      <th>Madugital Telegram</th>\n",
       "      <th>Newspaper</th>\n",
       "      <th>Digital Advertisement</th>\n",
       "      <th>Through Recommendations</th>\n",
       "      <th>Receive More Updates About Our Products</th>\n",
       "      <th>Tags</th>\n",
       "      <th>Lead Quality</th>\n",
       "      <th>Update me on Supply Chain Content</th>\n",
       "      <th>Get updates on DM Content</th>\n",
       "      <th>Lead Profile</th>\n",
       "      <th>City</th>\n",
       "      <th>Asymmetrique Activity Index</th>\n",
       "      <th>Asymmetrique Profile Index</th>\n",
       "      <th>Asymmetrique Activity Score</th>\n",
       "      <th>Asymmetrique Profile Score</th>\n",
       "      <th>I agree to pay the amount through cheque</th>\n",
       "      <th>A free copy of Mastering The Interview</th>\n",
       "      <th>Last Notable Activity</th>\n",
       "      <th>Last Activity Category</th>\n",
       "    </tr>\n",
       "  </thead>\n",
       "  <tbody>\n",
       "    <tr>\n",
       "      <th>0</th>\n",
       "      <td>7927b2df-8bba-4d29-b9a2-b6e0beafe620</td>\n",
       "      <td>660737</td>\n",
       "      <td>API</td>\n",
       "      <td>Olark Chat</td>\n",
       "      <td>0</td>\n",
       "      <td>0</td>\n",
       "      <td>0</td>\n",
       "      <td>0.0</td>\n",
       "      <td>0</td>\n",
       "      <td>0.0</td>\n",
       "      <td>Outside Indonesia</td>\n",
       "      <td>Not Specified</td>\n",
       "      <td>Not Specified</td>\n",
       "      <td>Unemployed</td>\n",
       "      <td>Healthy for life</td>\n",
       "      <td>0</td>\n",
       "      <td>0</td>\n",
       "      <td>0</td>\n",
       "      <td>0</td>\n",
       "      <td>0</td>\n",
       "      <td>0</td>\n",
       "      <td>0</td>\n",
       "      <td>0</td>\n",
       "      <td>Interested in other courses</td>\n",
       "      <td>Low in Relevance</td>\n",
       "      <td>0</td>\n",
       "      <td>0</td>\n",
       "      <td>Not Specified</td>\n",
       "      <td>Not Specified</td>\n",
       "      <td>02.Medium</td>\n",
       "      <td>02.Medium</td>\n",
       "      <td>15.0</td>\n",
       "      <td>15.0</td>\n",
       "      <td>0</td>\n",
       "      <td>0</td>\n",
       "      <td>Modified</td>\n",
       "      <td>Good</td>\n",
       "    </tr>\n",
       "    <tr>\n",
       "      <th>1</th>\n",
       "      <td>2a272436-5132-4136-86fa-dcc88c88f482</td>\n",
       "      <td>660728</td>\n",
       "      <td>API</td>\n",
       "      <td>Organic Search</td>\n",
       "      <td>0</td>\n",
       "      <td>0</td>\n",
       "      <td>0</td>\n",
       "      <td>5.0</td>\n",
       "      <td>674</td>\n",
       "      <td>2.5</td>\n",
       "      <td>Indonesia</td>\n",
       "      <td>Not Specified</td>\n",
       "      <td>Not Specified</td>\n",
       "      <td>Unemployed</td>\n",
       "      <td>Healthy for life</td>\n",
       "      <td>0</td>\n",
       "      <td>0</td>\n",
       "      <td>0</td>\n",
       "      <td>0</td>\n",
       "      <td>0</td>\n",
       "      <td>0</td>\n",
       "      <td>0</td>\n",
       "      <td>0</td>\n",
       "      <td>Ringing</td>\n",
       "      <td>Not Specified</td>\n",
       "      <td>0</td>\n",
       "      <td>0</td>\n",
       "      <td>Not Specified</td>\n",
       "      <td>Not Specified</td>\n",
       "      <td>02.Medium</td>\n",
       "      <td>02.Medium</td>\n",
       "      <td>15.0</td>\n",
       "      <td>15.0</td>\n",
       "      <td>0</td>\n",
       "      <td>0</td>\n",
       "      <td>Email Opened</td>\n",
       "      <td>Good</td>\n",
       "    </tr>\n",
       "    <tr>\n",
       "      <th>2</th>\n",
       "      <td>8cc8c611-a219-4f35-ad23-fdfd2656bd8a</td>\n",
       "      <td>660727</td>\n",
       "      <td>Landing Page Submission</td>\n",
       "      <td>Direct Traffic</td>\n",
       "      <td>0</td>\n",
       "      <td>0</td>\n",
       "      <td>1</td>\n",
       "      <td>2.0</td>\n",
       "      <td>1532</td>\n",
       "      <td>2.0</td>\n",
       "      <td>Indonesia</td>\n",
       "      <td>Business Administration</td>\n",
       "      <td>Not Specified</td>\n",
       "      <td>Student</td>\n",
       "      <td>Healthy for life</td>\n",
       "      <td>0</td>\n",
       "      <td>0</td>\n",
       "      <td>0</td>\n",
       "      <td>0</td>\n",
       "      <td>0</td>\n",
       "      <td>0</td>\n",
       "      <td>0</td>\n",
       "      <td>0</td>\n",
       "      <td>Will revert after reading the email</td>\n",
       "      <td>Might be</td>\n",
       "      <td>0</td>\n",
       "      <td>0</td>\n",
       "      <td>Potential Lead</td>\n",
       "      <td>Jakarta</td>\n",
       "      <td>02.Medium</td>\n",
       "      <td>01.High</td>\n",
       "      <td>14.0</td>\n",
       "      <td>20.0</td>\n",
       "      <td>0</td>\n",
       "      <td>1</td>\n",
       "      <td>Email Opened</td>\n",
       "      <td>Good</td>\n",
       "    </tr>\n",
       "    <tr>\n",
       "      <th>3</th>\n",
       "      <td>0cc2df48-7cf4-4e39-9de9-19797f9b38cc</td>\n",
       "      <td>660719</td>\n",
       "      <td>Landing Page Submission</td>\n",
       "      <td>Direct Traffic</td>\n",
       "      <td>0</td>\n",
       "      <td>0</td>\n",
       "      <td>0</td>\n",
       "      <td>1.0</td>\n",
       "      <td>305</td>\n",
       "      <td>1.0</td>\n",
       "      <td>Indonesia</td>\n",
       "      <td>Media and Advertising</td>\n",
       "      <td>Word Of Mouth</td>\n",
       "      <td>Unemployed</td>\n",
       "      <td>Healthy for life</td>\n",
       "      <td>0</td>\n",
       "      <td>0</td>\n",
       "      <td>0</td>\n",
       "      <td>0</td>\n",
       "      <td>0</td>\n",
       "      <td>0</td>\n",
       "      <td>0</td>\n",
       "      <td>0</td>\n",
       "      <td>Ringing</td>\n",
       "      <td>Not Sure</td>\n",
       "      <td>0</td>\n",
       "      <td>0</td>\n",
       "      <td>Not Specified</td>\n",
       "      <td>Jakarta</td>\n",
       "      <td>02.Medium</td>\n",
       "      <td>01.High</td>\n",
       "      <td>13.0</td>\n",
       "      <td>17.0</td>\n",
       "      <td>0</td>\n",
       "      <td>0</td>\n",
       "      <td>Modified</td>\n",
       "      <td>Bad</td>\n",
       "    </tr>\n",
       "    <tr>\n",
       "      <th>4</th>\n",
       "      <td>3256f628-e534-4826-9d63-4a8b88782852</td>\n",
       "      <td>660681</td>\n",
       "      <td>Landing Page Submission</td>\n",
       "      <td>Google</td>\n",
       "      <td>0</td>\n",
       "      <td>0</td>\n",
       "      <td>1</td>\n",
       "      <td>2.0</td>\n",
       "      <td>1428</td>\n",
       "      <td>1.0</td>\n",
       "      <td>Indonesia</td>\n",
       "      <td>Not Specified</td>\n",
       "      <td>Other</td>\n",
       "      <td>Unemployed</td>\n",
       "      <td>Healthy for life</td>\n",
       "      <td>0</td>\n",
       "      <td>0</td>\n",
       "      <td>0</td>\n",
       "      <td>0</td>\n",
       "      <td>0</td>\n",
       "      <td>0</td>\n",
       "      <td>0</td>\n",
       "      <td>0</td>\n",
       "      <td>Will revert after reading the email</td>\n",
       "      <td>Might be</td>\n",
       "      <td>0</td>\n",
       "      <td>0</td>\n",
       "      <td>Not Specified</td>\n",
       "      <td>Jakarta</td>\n",
       "      <td>02.Medium</td>\n",
       "      <td>01.High</td>\n",
       "      <td>15.0</td>\n",
       "      <td>18.0</td>\n",
       "      <td>0</td>\n",
       "      <td>0</td>\n",
       "      <td>Modified</td>\n",
       "      <td>Neutral</td>\n",
       "    </tr>\n",
       "  </tbody>\n",
       "</table>\n",
       "</div>"
      ],
      "text/plain": [
       "                            Prospect ID  Lead Number              Lead Origin  \\\n",
       "0  7927b2df-8bba-4d29-b9a2-b6e0beafe620       660737                      API   \n",
       "1  2a272436-5132-4136-86fa-dcc88c88f482       660728                      API   \n",
       "2  8cc8c611-a219-4f35-ad23-fdfd2656bd8a       660727  Landing Page Submission   \n",
       "3  0cc2df48-7cf4-4e39-9de9-19797f9b38cc       660719  Landing Page Submission   \n",
       "4  3256f628-e534-4826-9d63-4a8b88782852       660681  Landing Page Submission   \n",
       "\n",
       "      Lead Source  Do Not Email  Do Not Call  Converted  TotalVisits  \\\n",
       "0      Olark Chat             0            0          0          0.0   \n",
       "1  Organic Search             0            0          0          5.0   \n",
       "2  Direct Traffic             0            0          1          2.0   \n",
       "3  Direct Traffic             0            0          0          1.0   \n",
       "4          Google             0            0          1          2.0   \n",
       "\n",
       "   Total Time Spent on Website  Page Views Per Visit            Country  \\\n",
       "0                            0                   0.0  Outside Indonesia   \n",
       "1                          674                   2.5          Indonesia   \n",
       "2                         1532                   2.0          Indonesia   \n",
       "3                          305                   1.0          Indonesia   \n",
       "4                         1428                   1.0          Indonesia   \n",
       "\n",
       "            Specialization How did you hear about Madugital  \\\n",
       "0            Not Specified                    Not Specified   \n",
       "1            Not Specified                    Not Specified   \n",
       "2  Business Administration                    Not Specified   \n",
       "3    Media and Advertising                    Word Of Mouth   \n",
       "4            Not Specified                            Other   \n",
       "\n",
       "  What is your current occupation  \\\n",
       "0                      Unemployed   \n",
       "1                      Unemployed   \n",
       "2                         Student   \n",
       "3                      Unemployed   \n",
       "4                      Unemployed   \n",
       "\n",
       "  What matters most to you in choosing a product  Search  Magazine  \\\n",
       "0                               Healthy for life       0         0   \n",
       "1                               Healthy for life       0         0   \n",
       "2                               Healthy for life       0         0   \n",
       "3                               Healthy for life       0         0   \n",
       "4                               Healthy for life       0         0   \n",
       "\n",
       "   Newspaper Article  Madugital Telegram  Newspaper  Digital Advertisement  \\\n",
       "0                  0                   0          0                      0   \n",
       "1                  0                   0          0                      0   \n",
       "2                  0                   0          0                      0   \n",
       "3                  0                   0          0                      0   \n",
       "4                  0                   0          0                      0   \n",
       "\n",
       "   Through Recommendations  Receive More Updates About Our Products  \\\n",
       "0                        0                                        0   \n",
       "1                        0                                        0   \n",
       "2                        0                                        0   \n",
       "3                        0                                        0   \n",
       "4                        0                                        0   \n",
       "\n",
       "                                  Tags      Lead Quality  \\\n",
       "0          Interested in other courses  Low in Relevance   \n",
       "1                              Ringing     Not Specified   \n",
       "2  Will revert after reading the email          Might be   \n",
       "3                              Ringing          Not Sure   \n",
       "4  Will revert after reading the email          Might be   \n",
       "\n",
       "   Update me on Supply Chain Content  Get updates on DM Content  \\\n",
       "0                                  0                          0   \n",
       "1                                  0                          0   \n",
       "2                                  0                          0   \n",
       "3                                  0                          0   \n",
       "4                                  0                          0   \n",
       "\n",
       "     Lead Profile           City Asymmetrique Activity Index  \\\n",
       "0   Not Specified  Not Specified                   02.Medium   \n",
       "1   Not Specified  Not Specified                   02.Medium   \n",
       "2  Potential Lead        Jakarta                   02.Medium   \n",
       "3   Not Specified        Jakarta                   02.Medium   \n",
       "4   Not Specified        Jakarta                   02.Medium   \n",
       "\n",
       "  Asymmetrique Profile Index  Asymmetrique Activity Score  \\\n",
       "0                  02.Medium                         15.0   \n",
       "1                  02.Medium                         15.0   \n",
       "2                    01.High                         14.0   \n",
       "3                    01.High                         13.0   \n",
       "4                    01.High                         15.0   \n",
       "\n",
       "   Asymmetrique Profile Score  I agree to pay the amount through cheque  \\\n",
       "0                        15.0                                         0   \n",
       "1                        15.0                                         0   \n",
       "2                        20.0                                         0   \n",
       "3                        17.0                                         0   \n",
       "4                        18.0                                         0   \n",
       "\n",
       "   A free copy of Mastering The Interview Last Notable Activity  \\\n",
       "0                                       0              Modified   \n",
       "1                                       0          Email Opened   \n",
       "2                                       1          Email Opened   \n",
       "3                                       0              Modified   \n",
       "4                                       0              Modified   \n",
       "\n",
       "  Last Activity Category  \n",
       "0                   Good  \n",
       "1                   Good  \n",
       "2                   Good  \n",
       "3                    Bad  \n",
       "4                Neutral  "
      ]
     },
     "execution_count": 44,
     "metadata": {},
     "output_type": "execute_result"
    }
   ],
   "source": [
    "data.head()"
   ]
  },
  {
   "cell_type": "code",
   "execution_count": 45,
   "metadata": {},
   "outputs": [
    {
     "data": {
      "text/plain": [
       "((7392, 123), (1848, 123))"
      ]
     },
     "execution_count": 45,
     "metadata": {},
     "output_type": "execute_result"
    }
   ],
   "source": [
    "# Identifikasi categorical dan numerical columns\n",
    "categorical_cols = data.select_dtypes(include=['object', 'category']).columns.tolist()\n",
    "numerical_cols = data.select_dtypes(include=['int64', 'float64']).columns.tolist()\n",
    "\n",
    "# Remove `Converted` kolom\n",
    "numerical_cols.remove('Converted')\n",
    "numerical_cols.remove('Lead Number')\n",
    "categorical_cols.remove('Prospect ID')\n",
    "\n",
    "# Pipeline untuk fitur numerik\n",
    "numeric_transformer = Pipeline(steps=[\n",
    "    ('imputer', SimpleImputer(strategy='constant', fill_value=0)),\n",
    "    ('scaler', StandardScaler())\n",
    "])\n",
    "\n",
    "# Pipeline untuk fitur kategorik\n",
    "categorical_transformer = Pipeline(steps=[\n",
    "    ('imputer', SimpleImputer(strategy='constant', fill_value='Not Specified')),\n",
    "    ('onehot', OneHotEncoder(handle_unknown='ignore'))\n",
    "])\n",
    "\n",
    "# menggabungkan transformer menjadi preprocessor\n",
    "preprocessor = ColumnTransformer(\n",
    "    transformers=[\n",
    "        ('num', numeric_transformer, numerical_cols),\n",
    "        ('cat', categorical_transformer, categorical_cols)\n",
    "    ])\n",
    "\n",
    "# Splitting the data into training and testing sets\n",
    "X = data.drop(columns=['Converted', 'Prospect ID', 'Lead Number'])\n",
    "y = data['Converted']\n",
    "X_train, X_test, y_train, y_test = train_test_split(X, y, test_size=0.2, random_state=42)\n",
    "\n",
    "# Applying the preprocessor to the training data\n",
    "X_train_preprocessed = preprocessor.fit_transform(X_train)\n",
    "X_test_preprocessed = preprocessor.transform(X_test)\n",
    "\n",
    "# Displaying the shape of the processed data\n",
    "X_train_preprocessed.shape, X_test_preprocessed.shape"
   ]
  },
  {
   "cell_type": "markdown",
   "metadata": {},
   "source": [
    "## Modelling"
   ]
  },
  {
   "cell_type": "code",
   "execution_count": 46,
   "metadata": {},
   "outputs": [
    {
     "name": "stdout",
     "output_type": "stream",
     "text": [
      "Logistic Regression Classification Report:\n",
      "              precision    recall  f1-score   support\n",
      "\n",
      "           0       0.93      0.97      0.95      1107\n",
      "           1       0.95      0.90      0.92       741\n",
      "\n",
      "    accuracy                           0.94      1848\n",
      "   macro avg       0.94      0.93      0.94      1848\n",
      "weighted avg       0.94      0.94      0.94      1848\n",
      "\n"
     ]
    }
   ],
   "source": [
    "# Membuat model Logistic Regression dengan iterasi yang tinggi (untuk mencapai konvergensi model)\n",
    "logreg = LogisticRegression(max_iter=1000, solver='lbfgs')\n",
    "logreg.fit(X_train_preprocessed, y_train)\n",
    "\n",
    "# Memprediksi dan mengevaluasi model\n",
    "y_pred_logreg = logreg.predict(X_test_preprocessed)\n",
    "print(\"Logistic Regression Classification Report:\")\n",
    "print(classification_report(y_test, y_pred_logreg))"
   ]
  },
  {
   "cell_type": "code",
   "execution_count": 47,
   "metadata": {},
   "outputs": [
    {
     "name": "stdout",
     "output_type": "stream",
     "text": [
      "Decision Tree Classification Report:\n",
      "              precision    recall  f1-score   support\n",
      "\n",
      "           0       0.93      0.94      0.93      1107\n",
      "           1       0.90      0.90      0.90       741\n",
      "\n",
      "    accuracy                           0.92      1848\n",
      "   macro avg       0.92      0.92      0.92      1848\n",
      "weighted avg       0.92      0.92      0.92      1848\n",
      "\n"
     ]
    }
   ],
   "source": [
    "# Membuat model Decision Tree\n",
    "dtree = DecisionTreeClassifier(random_state=42)\n",
    "dtree.fit(X_train_preprocessed, y_train)\n",
    "\n",
    "# Memprediksi dan mengevaluasi model\n",
    "y_pred_dtree = dtree.predict(X_test_preprocessed)\n",
    "print(\"Decision Tree Classification Report:\")\n",
    "print(classification_report(y_test, y_pred_dtree))"
   ]
  },
  {
   "cell_type": "code",
   "execution_count": 48,
   "metadata": {},
   "outputs": [
    {
     "name": "stdout",
     "output_type": "stream",
     "text": [
      "Random Forest Classification Report:\n",
      "              precision    recall  f1-score   support\n",
      "\n",
      "           0       0.94      0.96      0.95      1107\n",
      "           1       0.94      0.91      0.93       741\n",
      "\n",
      "    accuracy                           0.94      1848\n",
      "   macro avg       0.94      0.94      0.94      1848\n",
      "weighted avg       0.94      0.94      0.94      1848\n",
      "\n"
     ]
    }
   ],
   "source": [
    "# Membuat model Random Forest\n",
    "rf = RandomForestClassifier(random_state=42)\n",
    "rf.fit(X_train_preprocessed, y_train)\n",
    "\n",
    "# Memprediksi dan mengevaluasi model\n",
    "y_pred_rf = rf.predict(X_test_preprocessed)\n",
    "print(\"Random Forest Classification Report:\")\n",
    "print(classification_report(y_test, y_pred_rf))"
   ]
  },
  {
   "cell_type": "code",
   "execution_count": 49,
   "metadata": {},
   "outputs": [
    {
     "name": "stdout",
     "output_type": "stream",
     "text": [
      "F1 Score for Logistic Regression\t: 0.92\n",
      "F1 Score for Decision Tree\t\t: 0.90\n",
      "F1 Score for Random Forest\t\t: 0.93\n"
     ]
    }
   ],
   "source": [
    "# Menghitung F1 Score untuk Logistic Regression\n",
    "f1_logreg = f1_score(y_test, y_pred_logreg)\n",
    "print(f\"F1 Score for Logistic Regression\\t: {f1_logreg:.2f}\")\n",
    "\n",
    "# Menghitung F1 Score untuk Decision Tree\n",
    "f1_dtree = f1_score(y_test, y_pred_dtree)\n",
    "print(f\"F1 Score for Decision Tree\\t\\t: {f1_dtree:.2f}\")\n",
    "\n",
    "# Menghitung F1 Score untuk Random Forest\n",
    "f1_rf = f1_score(y_test, y_pred_rf)\n",
    "print(f\"F1 Score for Random Forest\\t\\t: {f1_rf:.2f}\")"
   ]
  },
  {
   "cell_type": "markdown",
   "metadata": {},
   "source": [
    "# 5 Evaluation"
   ]
  },
  {
   "cell_type": "code",
   "execution_count": 50,
   "metadata": {},
   "outputs": [
    {
     "name": "stdout",
     "output_type": "stream",
     "text": [
      "Fitting 3 folds for each of 100 candidates, totalling 300 fits\n"
     ]
    },
    {
     "name": "stderr",
     "output_type": "stream",
     "text": [
      "c:\\Users\\rolex\\AppData\\Local\\Programs\\Python\\Python312\\Lib\\site-packages\\sklearn\\model_selection\\_validation.py:540: FitFailedWarning: \n",
      "111 fits failed out of a total of 300.\n",
      "The score on these train-test partitions for these parameters will be set to nan.\n",
      "If these failures are not expected, you can try to debug them by setting error_score='raise'.\n",
      "\n",
      "Below are more details about the failures:\n",
      "--------------------------------------------------------------------------------\n",
      "57 fits failed with the following error:\n",
      "Traceback (most recent call last):\n",
      "  File \"c:\\Users\\rolex\\AppData\\Local\\Programs\\Python\\Python312\\Lib\\site-packages\\sklearn\\model_selection\\_validation.py\", line 888, in _fit_and_score\n",
      "    estimator.fit(X_train, y_train, **fit_params)\n",
      "  File \"c:\\Users\\rolex\\AppData\\Local\\Programs\\Python\\Python312\\Lib\\site-packages\\sklearn\\base.py\", line 1466, in wrapper\n",
      "    estimator._validate_params()\n",
      "  File \"c:\\Users\\rolex\\AppData\\Local\\Programs\\Python\\Python312\\Lib\\site-packages\\sklearn\\base.py\", line 666, in _validate_params\n",
      "    validate_parameter_constraints(\n",
      "  File \"c:\\Users\\rolex\\AppData\\Local\\Programs\\Python\\Python312\\Lib\\site-packages\\sklearn\\utils\\_param_validation.py\", line 95, in validate_parameter_constraints\n",
      "    raise InvalidParameterError(\n",
      "sklearn.utils._param_validation.InvalidParameterError: The 'max_features' parameter of RandomForestClassifier must be an int in the range [1, inf), a float in the range (0.0, 1.0], a str among {'sqrt', 'log2'} or None. Got 'auto' instead.\n",
      "\n",
      "--------------------------------------------------------------------------------\n",
      "54 fits failed with the following error:\n",
      "Traceback (most recent call last):\n",
      "  File \"c:\\Users\\rolex\\AppData\\Local\\Programs\\Python\\Python312\\Lib\\site-packages\\sklearn\\model_selection\\_validation.py\", line 888, in _fit_and_score\n",
      "    estimator.fit(X_train, y_train, **fit_params)\n",
      "  File \"c:\\Users\\rolex\\AppData\\Local\\Programs\\Python\\Python312\\Lib\\site-packages\\sklearn\\base.py\", line 1466, in wrapper\n",
      "    estimator._validate_params()\n",
      "  File \"c:\\Users\\rolex\\AppData\\Local\\Programs\\Python\\Python312\\Lib\\site-packages\\sklearn\\base.py\", line 666, in _validate_params\n",
      "    validate_parameter_constraints(\n",
      "  File \"c:\\Users\\rolex\\AppData\\Local\\Programs\\Python\\Python312\\Lib\\site-packages\\sklearn\\utils\\_param_validation.py\", line 95, in validate_parameter_constraints\n",
      "    raise InvalidParameterError(\n",
      "sklearn.utils._param_validation.InvalidParameterError: The 'max_features' parameter of RandomForestClassifier must be an int in the range [1, inf), a float in the range (0.0, 1.0], a str among {'log2', 'sqrt'} or None. Got 'auto' instead.\n",
      "\n",
      "  warnings.warn(some_fits_failed_message, FitFailedWarning)\n",
      "c:\\Users\\rolex\\AppData\\Local\\Programs\\Python\\Python312\\Lib\\site-packages\\sklearn\\model_selection\\_search.py:1102: UserWarning: One or more of the test scores are non-finite: [0.92532468        nan        nan 0.93682359        nan        nan\n",
      "        nan 0.933171          nan 0.94155844 0.94318182 0.91666667\n",
      "        nan 0.92451299        nan 0.90597944 0.91382576        nan\n",
      " 0.94047619 0.93614719 0.9273539         nan 0.92532468 0.94426407\n",
      "        nan 0.94426407 0.93614719        nan 0.92478355        nan\n",
      "        nan        nan        nan 0.92410714 0.91666667 0.92721861\n",
      " 0.94237013 0.93357684        nan        nan 0.93790584 0.94426407\n",
      " 0.94399351 0.94412879        nan 0.91680195        nan        nan\n",
      " 0.92397186        nan 0.92451299        nan 0.92437771 0.90246212\n",
      " 0.9411526  0.92275433 0.94615801 0.93506494        nan 0.94304654\n",
      "        nan 0.92478355 0.92518939 0.94088203 0.92397186        nan\n",
      " 0.93100649        nan        nan 0.91301407 0.93695887        nan\n",
      " 0.93262987 0.92451299 0.93479437        nan        nan 0.94020563\n",
      " 0.92437771 0.94196429        nan        nan 0.91653139 0.92451299\n",
      " 0.93181818 0.93046537 0.91396104 0.91409632 0.9316829         nan\n",
      "        nan 0.94372294 0.94264069 0.92086039 0.93547078 0.92194264\n",
      " 0.94345238        nan 0.93005952        nan]\n",
      "  warnings.warn(\n"
     ]
    },
    {
     "name": "stdout",
     "output_type": "stream",
     "text": [
      "Best Parameters: {'n_estimators': np.int64(1000), 'min_samples_split': np.int64(7), 'min_samples_leaf': np.int64(1), 'max_features': 'sqrt', 'max_depth': np.int64(70), 'bootstrap': True}\n",
      "Random Forest Classification Report with Best Parameters:\n",
      "              precision    recall  f1-score   support\n",
      "\n",
      "           0       0.94      0.97      0.95      1107\n",
      "           1       0.95      0.91      0.93       741\n",
      "\n",
      "    accuracy                           0.94      1848\n",
      "   macro avg       0.94      0.94      0.94      1848\n",
      "weighted avg       0.94      0.94      0.94      1848\n",
      "\n"
     ]
    }
   ],
   "source": [
    "# Membuat model RandomForest\n",
    "rf = RandomForestClassifier(random_state=42)\n",
    "\n",
    "# Menentukan grid hyperparameter\n",
    "param_distributions = {\n",
    "    'n_estimators': np.arange(100, 1001, 100),\n",
    "    'max_features': ['auto', 'sqrt', 'log2'],\n",
    "    'max_depth': np.arange(10, 101, 10),\n",
    "    'min_samples_split': np.arange(2, 11, 1),\n",
    "    'min_samples_leaf': np.arange(1, 11, 1),\n",
    "    'bootstrap': [True, False]\n",
    "}\n",
    "\n",
    "# Mengatur RandomizedSearchCV\n",
    "rf_random_search = RandomizedSearchCV(estimator=rf, param_distributions=param_distributions, \n",
    "                                      n_iter=100, cv=3, verbose=2, random_state=42, n_jobs=-1)\n",
    "\n",
    "# Melatih RandomizedSearchCV pada data latih\n",
    "rf_random_search.fit(X_train_preprocessed, y_train)\n",
    "\n",
    "# Menemukan hyperparameter terbaik\n",
    "best_params = rf_random_search.best_params_\n",
    "print(f\"Best Parameters: {best_params}\")\n",
    "\n",
    "# Mengevaluasi model dengan hyperparameter terbaik\n",
    "best_rf_model = rf_random_search.best_estimator_\n",
    "y_pred_rf_best = best_rf_model.predict(X_test_preprocessed)\n",
    "print(\"Random Forest Classification Report with Best Parameters:\")\n",
    "print(classification_report(y_test, y_pred_rf_best))"
   ]
  },
  {
   "cell_type": "code",
   "execution_count": 51,
   "metadata": {},
   "outputs": [
    {
     "name": "stdout",
     "output_type": "stream",
     "text": [
      "Skor F1 dengan Parameter Terbaik: 0.93\n"
     ]
    }
   ],
   "source": [
    "# Mengambil parameter terbaik\n",
    "best_params = rf_random_search.best_params_\n",
    "\n",
    "# Membuat model RandomForest baru dengan parameter ini\n",
    "best_rf_model = RandomForestClassifier(**best_params, random_state=42)\n",
    "\n",
    "# Melatih model pada data latihan\n",
    "best_rf_model.fit(X_train_preprocessed, y_train)\n",
    "\n",
    "# Melakukan prediksi pada data uji\n",
    "y_pred_best_rf = best_rf_model.predict(X_test_preprocessed)\n",
    "\n",
    "# Menghitung skor F1\n",
    "f1_score_best_rf = f1_score(y_test, y_pred_best_rf)\n",
    "print(f\"Skor F1 dengan Parameter Terbaik: {f1_score_best_rf:.2f}\")"
   ]
  },
  {
   "cell_type": "code",
   "execution_count": 52,
   "metadata": {},
   "outputs": [],
   "source": [
    "def get_feature_names(column_transformer):\n",
    "    \"\"\"Get feature names from a ColumnTransformer\"\"\"\n",
    "    output_features = []\n",
    "\n",
    "    for name, pipe, features in column_transformer.transformers_:\n",
    "        if name == 'remainder':\n",
    "            continue\n",
    "        if hasattr(pipe, 'get_feature_names_out'):\n",
    "            # If the pipeline step has 'get_feature_names_out' method\n",
    "            feature_names = pipe.get_feature_names_out(features)\n",
    "        else:\n",
    "            # Otherwise, use the original feature names\n",
    "            feature_names = features\n",
    "        output_features.extend(feature_names)\n",
    "\n",
    "    return output_features"
   ]
  },
  {
   "cell_type": "code",
   "execution_count": 53,
   "metadata": {},
   "outputs": [],
   "source": [
    "# Inisialisasi daftar untuk menyimpan nama fitur\n",
    "feature_names = []\n",
    "\n",
    "# Loop melalui setiap transformer dalam ColumnTransformer\n",
    "for transformer in preprocessor.transformers_: # karena kita tidak memiliki 'remainder'\n",
    "    transformer_name, transformer_instance, column_names = transformer\n",
    "\n",
    "    # Jika transformer memiliki metode 'get_feature_names_out', gunakan itu\n",
    "    if hasattr(transformer_instance, 'named_steps'):\n",
    "        for k, v in transformer_instance.named_steps.items():\n",
    "            if k in ['scaler', 'onehot']:\n",
    "                names = transformer_instance.named_steps[k].get_feature_names_out(column_names)\n",
    "        feature_names.extend(names)\n",
    "    else:\n",
    "        # Jika tidak, hanya gunakan nama kolom asli\n",
    "        feature_names.extend(column_names)\n",
    "\n",
    "# Sekarang feature_names harus berisi nama fitur yang benar setelah preprocessing"
   ]
  },
  {
   "cell_type": "code",
   "execution_count": 54,
   "metadata": {},
   "outputs": [
    {
     "data": {
      "image/png": "[encoded data removed]",
      "text/plain": [
       "<Figure size 1000x600 with 1 Axes>"
      ]
     },
     "metadata": {},
     "output_type": "display_data"
    }
   ],
   "source": [
    "# Mendapatkan feature importances dari model RandomForest\n",
    "importances = best_rf_model.feature_importances_\n",
    "\n",
    "# Membuat pasangan fitur dan pentingnya, kemudian urutkan\n",
    "feature_importances = sorted(zip(feature_names, importances), key=lambda x: x[1], reverse=True)\n",
    "\n",
    "# Mengambil 10 fitur teratas\n",
    "top_10_feature_importances = feature_importances[:10]\n",
    "\n",
    "# Membuat visualisasi\n",
    "plt.figure(figsize=(10, 6))\n",
    "plt.title(\"Top 10 Important Features in the RandomForest Model\")\n",
    "plt.bar(*zip(*top_10_feature_importances))\n",
    "plt.xticks(rotation=90)\n",
    "plt.ylabel(\"Importance\")\n",
    "plt.xlabel(\"Feature\")\n",
    "plt.show()"
   ]
  },
  {
   "cell_type": "code",
   "execution_count": 55,
   "metadata": {},
   "outputs": [
    {
     "name": "stdout",
     "output_type": "stream",
     "text": [
      "Tags_Will revert after reading the email\n",
      "Total Time Spent on Website\n",
      "Last Notable Activity_SMS Sent\n",
      "Tags_Ringing\n",
      "Lead Profile_Potential Lead\n",
      "Tags_Not Specified\n",
      "Lead Quality_Might be\n",
      "Tags_Closed by Horizzon\n",
      "Tags_Lost to EINS\n",
      "Lead Quality_Not Specified\n"
     ]
    }
   ],
   "source": [
    "for a, b in top_10_feature_importances:\n",
    "    print(a)"
   ]
  },
  {
   "cell_type": "code",
   "execution_count": 56,
   "metadata": {},
   "outputs": [
    {
     "data": {
      "text/plain": [
       "[('Tags_Will revert after reading the email', np.float64(0.18141346991610285)),\n",
       " ('Total Time Spent on Website', np.float64(0.09972270012565215)),\n",
       " ('Last Notable Activity_SMS Sent', np.float64(0.052620697512145556)),\n",
       " ('Tags_Ringing', np.float64(0.05067578393910034)),\n",
       " ('Lead Profile_Potential Lead', np.float64(0.0344642234175098)),\n",
       " ('Tags_Not Specified', np.float64(0.030711800793458685)),\n",
       " ('Lead Quality_Might be', np.float64(0.028148935633235284)),\n",
       " ('Tags_Closed by Horizzon', np.float64(0.027857421493026346)),\n",
       " ('Tags_Lost to EINS', np.float64(0.026382963310371627)),\n",
       " ('Lead Quality_Not Specified', np.float64(0.026324876570961272))]"
      ]
     },
     "execution_count": 56,
     "metadata": {},
     "output_type": "execute_result"
    }
   ],
   "source": [
    "top_10_feature_importances"
   ]
  },
  {
   "cell_type": "markdown",
   "metadata": {},
   "source": [
    "## Save Models"
   ]
  },
  {
   "cell_type": "code",
   "execution_count": 57,
   "metadata": {},
   "outputs": [
    {
     "name": "stdout",
     "output_type": "stream",
     "text": [
      "berhasil menyimpan model terbaik dan preprocessornya\n"
     ]
    }
   ],
   "source": [
    "if not os.path.exists('model'):\n",
    "    os.mkdir('model')\n",
    "else:\n",
    "    print('folder `model` already exists!')\n",
    "\n",
    "# save the model\n",
    "filename = os.path.join('model', 'best_rf_model.sav')\n",
    "pickle.dump(best_rf_model, open(filename, 'wb'))\n",
    "\n",
    "# save the preprocessor\n",
    "filename = os.path.join('model', 'preprocessor.sav')\n",
    "pickle.dump(preprocessor, open(filename, 'wb'))\n",
    "\n",
    "print('berhasil menyimpan model terbaik dan preprocessornya')"
   ]
  },
  {
   "cell_type": "markdown",
   "metadata": {},
   "source": [
    "# Deployment"
   ]
  },
  {
   "cell_type": "code",
   "execution_count": 58,
   "metadata": {},
   "outputs": [],
   "source": [
    "# Load Model\n",
    "filename = os.path.join('model', 'best_rf_model.sav')\n",
    "file = open(filename,'rb')\n",
    "best_rf_model = pickle.load(file)\n",
    "\n",
    "# Load Preprocessor\n",
    "filename = os.path.join('model', 'preprocessor.sav')\n",
    "file = open(filename,'rb')\n",
    "preprocessor = pickle.load(file)"
   ]
  },
  {
   "cell_type": "code",
   "execution_count": 59,
   "metadata": {},
   "outputs": [],
   "source": [
    "# Data yang diberikan\n",
    "data = {'Prospect ID': '2a369e36-ca95-4ca9-9e4f-9d27175aa320',\n",
    " 'Lead Number': 7760608,\n",
    " 'Lead Origin': 'Landing Page Submission',\n",
    " 'Lead Source': 'blog',\n",
    " 'Do Not Email': 0,\n",
    " 'Do Not Call': 0,\n",
    " 'Converted': 1,\n",
    " 'TotalVisits': 8.0,\n",
    " 'Total Time Spent on Website': 100,\n",
    " 'Page Views Per Visit': 8.0,\n",
    " 'Country': 'Indonesia',\n",
    " 'Specialization': 'Travel and Tourism',\n",
    " 'How did you hear about Madugital': 'Not Specified',\n",
    " 'What is your current occupation': 'Unemployed',\n",
    " 'What matters most to you in choosing a product': 'Healthy for life',\n",
    " 'Search': 0,\n",
    " 'Magazine': 0,\n",
    " 'Newspaper Article': 0,\n",
    " 'Madugital Telegram': 0,\n",
    " 'Newspaper': 0,\n",
    " 'Digital Advertisement': 0,\n",
    " 'Through Recommendations': 0,\n",
    " 'Receive More Updates About Our Products': 0,\n",
    " 'Tags': 'Will revert after reading the email',\n",
    " 'Lead Quality': 'Might be',\n",
    " 'Update me on Supply Chain Content': 0,\n",
    " 'Get updates on DM Content': 0,\n",
    " 'Lead Profile': 'Not Specified',\n",
    " 'City': 'Other Metro Cities',\n",
    " 'Asymmetrique Activity Index': '02.Medium',\n",
    " 'Asymmetrique Profile Index': '02.Medium',\n",
    " 'Asymmetrique Activity Score': 15.0,\n",
    " 'Asymmetrique Profile Score': 14.0,\n",
    " 'I agree to pay the amount through cheque': 0,\n",
    " 'A free copy of Mastering The Interview': 1,\n",
    " 'Last Notable Activity': 'Email Opened',\n",
    " 'Last Activity Category': 'Bad'}"
   ]
  },
  {
   "cell_type": "code",
   "execution_count": 60,
   "metadata": {},
   "outputs": [
    {
     "name": "stdout",
     "output_type": "stream",
     "text": [
      "Customer dengan ID 2a369e36-ca95-4ca9-9e4f-9d27175aa320, masuk dalam kategori HOT leads, dengan score : 84.95\n"
     ]
    }
   ],
   "source": [
    "# Mengubah data menjadi DataFrame\n",
    "data_df = pd.DataFrame([data])\n",
    "\n",
    "# Melakukan transformasi dengan preprocessor\n",
    "data_preprocessed = preprocessor.transform(data_df)\n",
    "\n",
    "# Melakukan prediksi probabilitas dengan model, dan membuat score dari hasil prediksi probabilitas\n",
    "probability_result = best_rf_model.predict_proba(data_preprocessed)[0][1]\n",
    "score = round(probability_result * 100, 2)\n",
    "\n",
    "# membuat kategori leads untuk mempermudah identifikasi oleh salesman\n",
    "if probability_result<0.5:\n",
    "    category = 'COLD'\n",
    "elif probability_result>=0.75:\n",
    "    category = 'HOT'\n",
    "else:\n",
    "    category = 'WARM'\n",
    "\n",
    "# menampilkan ID customer untuk follow-up oleh salesman\n",
    "customer_id = data['Prospect ID']\n",
    "\n",
    "# Menampilkan hasil prediksi\n",
    "print(f\"Customer dengan ID {customer_id}, masuk dalam kategori {category} leads, dengan score : {score}\")"
   ]
  }
 ],
 "metadata": {
  "kernelspec": {
   "display_name": "Python 3",
   "language": "python",
   "name": "python3"
  },
  "language_info": {
   "codemirror_mode": {
    "name": "ipython",
    "version": 3
   },
   "file_extension": ".py",
   "mimetype": "text/x-python",
   "name": "python",
   "nbconvert_exporter": "python",
   "pygments_lexer": "ipython3",
   "version": "3.12.3"
  }
 },
 "nbformat": 4,
 "nbformat_minor": 2
}
